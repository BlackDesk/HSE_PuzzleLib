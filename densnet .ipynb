{
 "cells": [
  {
   "cell_type": "code",
   "execution_count": 10,
   "metadata": {},
   "outputs": [],
   "source": [
    "import numpy as np\n",
    "from PuzzleLib.Backend import gpuarray\n",
    "from PuzzleLib.Modules import Conv2D, BatchNorm2D, Activation, Concat, relu, AvgPool2D, Linear, Reshape\n",
    "from PuzzleLib.Variable import Variable\n",
    "from PuzzleLib.Containers import Graph, Sequential\n",
    "\n",
    "import os\n",
    "import math\n",
    "\n",
    "import numpy as np\n",
    "\n",
    "from PuzzleLib.Datasets import Cifar10Loader\n",
    "\n",
    "from PuzzleLib.Containers import Sequential\n",
    "from PuzzleLib.Modules import Conv2D, MaxPool2D, Activation, Flatten, Linear\n",
    "from PuzzleLib.Modules.Activation import relu\n",
    "from PuzzleLib.Handlers import Trainer, Validator\n",
    "from PuzzleLib.Optimizers import MomentumSGD\n",
    "from PuzzleLib.Cost import CrossEntropy\n",
    "\n",
    "from PuzzleLib.Visual import showImageBasedFilters, showFilters"
   ]
  },
  {
   "cell_type": "code",
   "execution_count": 13,
   "metadata": {},
   "outputs": [],
   "source": [
    "import math\n",
    "\n",
    "def BasicBlock(inmaps, outsize):\n",
    "    bn = BatchNorm2D(inmaps, name=\"bn\").node()\n",
    "    rel = Activation(relu, name=\"act\").node(bn)\n",
    "    conv =  Conv2D(inmaps=inmaps, name=\"conv\", \n",
    "                            outmaps=outsize, size=3, stride=1, pad=1, useBias=False).node(rel)\n",
    "    concat = Concat(axis=1, name=\"concat\").node(conv, bn)\n",
    "    graph = Graph(inputs=bn, outputs=concat)\n",
    "    return graph\n",
    "    \n",
    "\n",
    "    \n",
    "def BottleneckBlock(inmaps, outsize):\n",
    "        inter = outsize * 4\n",
    "        bn1 = BatchNorm2D(inmaps, name=\"bn1\").node()\n",
    "        relu1 = Activation(relu, name=\"act1\").node(bn1)\n",
    "        conv1 = Conv2D(inmaps=inmaps, name=\"conv1\", \n",
    "                            outmaps=inter, size=1, stride=1, pad=0, useBias=False).node(relu1)\n",
    "        bn2 = BatchNorm2D(inter, name=\"bn2\").node(conv1)\n",
    "        relu2 = Activation(relu, name=\"act2\").node(bn2)\n",
    "        conv2 = Conv2D(inter, outsize, size=3, stride=1,\n",
    "                               pad=1, useBias=False).node(relu2)\n",
    "        concat = Concat(axis=1, name=\"concat\").node(bn1, conv2)\n",
    "        graph = Graph(inputs=bn1, outputs=concat)\n",
    "        return graph\n",
    "    \n",
    "    \n",
    "def TransitionBlock(inmaps, outsize):\n",
    "        bn = BatchNorm2D(inmaps, name=\"bn\").node()\n",
    "        rel = Activation(relu, name=\"act\").node(bn)\n",
    "        conv = Conv2D(inmaps, outsize, size=1, stride=1,\n",
    "                               pad=0, useBias=False).node(rel)\n",
    "        pool = AvgPool2D(name=\"pool\").node(conv)\n",
    "        graph = Graph(inputs=bn, outputs=pool)\n",
    "        return graph\n",
    "    \n",
    "def DenseBlock(num_layers, inmaps, growth_rate, block):\n",
    "    layers = Sequential()\n",
    "    for i in range(num_layers):\n",
    "        layers.append(block(inmaps + i * growth_rate, growth_rate))\n",
    "    return layers\n",
    "\n",
    "def DenseNet3(depth, num_classes, growth_rate=12,\n",
    "                 reduction=0.5, bottleneck=True):\n",
    "    layers = Sequential()\n",
    "    imaps = 2 * growth_rate\n",
    "    n = (depth - 4) // 3\n",
    "    if bottleneck == True:\n",
    "        n = n // 2\n",
    "        block = BottleneckBlock\n",
    "    else:\n",
    "        block = BasicBlock\n",
    "    \n",
    "    layers.append(Conv2D(3, imaps, size=3, stride=1,\n",
    "                               pad=1, useBias=False))\n",
    "    layers.append(DenseBlock(n, imaps, growth_rate, block))\n",
    "    imaps = int(imaps + n * growth_rate)\n",
    "    layers.append(TransitionBlock(imaps, int(math.floor(imaps * reduction))))\n",
    "    imaps = int(math.floor(imaps * reduction))\n",
    "    layers.append(DenseBlock(n, imaps, growth_rate, block))\n",
    "    imaps = int(imaps + n * growth_rate)\n",
    "    layers.append(TransitionBlock(imaps, int(math.floor(imaps * reduction))))\n",
    "    imaps = int(math.floor(imaps * reduction))\n",
    "    layers.append(DenseBlock(n, imaps, growth_rate, block))\n",
    "    imaps = int(imaps + n * growth_rate)\n",
    "    layers.append(BatchNorm2D(imaps))\n",
    "    layers.append(Activation(relu))\n",
    "    layers.append(AvgPool2D(name=\"pool\"))\n",
    "    layers.append(Flatten())\n",
    "    layers.append(Linear(layers.dataShapeFrom((1, 3, 32, 32))[1], 64, wscale=0.1, initscheme=\"gaussian\"))\n",
    "    layers.append(Activation(relu))\n",
    "    layers.append(Linear(64, num_classes, wscale=0.1, initscheme=\"gaussian\"))\n",
    "    return layers"
   ]
  },
  {
   "cell_type": "code",
   "execution_count": 14,
   "metadata": {},
   "outputs": [],
   "source": [
    "b = DenseNet3(20, 10)"
   ]
  },
  {
   "cell_type": "code",
   "execution_count": 15,
   "metadata": {},
   "outputs": [],
   "source": [
    "data = gpuarray.to_gpu(np.ones((32, 3, 32, 32)).astype(np.float32))"
   ]
  },
  {
   "cell_type": "code",
   "execution_count": 16,
   "metadata": {},
   "outputs": [
    {
     "data": {
      "text/plain": [
       "(32, 3, 32, 32)"
      ]
     },
     "execution_count": 16,
     "metadata": {},
     "output_type": "execute_result"
    }
   ],
   "source": [
    "data.shape"
   ]
  },
  {
   "cell_type": "code",
   "execution_count": 17,
   "metadata": {},
   "outputs": [
    {
     "data": {
      "text/plain": [
       "(32, 10)"
      ]
     },
     "execution_count": 17,
     "metadata": {},
     "output_type": "execute_result"
    }
   ],
   "source": [
    "b(data).shape"
   ]
  },
  {
   "cell_type": "code",
   "execution_count": 18,
   "metadata": {},
   "outputs": [
    {
     "name": "stdout",
     "output_type": "stream",
     "text": [
      "--2021-05-26 20:34:35--  https://www.cs.toronto.edu/~kriz/cifar-10-python.tar.gz\n",
      "Resolving www.cs.toronto.edu (www.cs.toronto.edu)... 128.100.3.30\n",
      "Connecting to www.cs.toronto.edu (www.cs.toronto.edu)|128.100.3.30|:443... connected.\n",
      "HTTP request sent, awaiting response... 200 OK\n",
      "Length: 170498071 (163M) [application/x-gzip]\n",
      "Saving to: 'cifar-10-python.tar.gz'\n",
      "\n",
      "cifar-10-python.tar 100%[===================>] 162.60M  11.6MB/s    in 16s     \n",
      "\n",
      "2021-05-26 20:34:52 (10.1 MB/s) - 'cifar-10-python.tar.gz' saved [170498071/170498071]\n",
      "\n"
     ]
    }
   ],
   "source": [
    "!cd TestData/ && wget https://www.cs.toronto.edu/~kriz/cifar-10-python.tar.gz -O cifar-10-python.tar.gz"
   ]
  },
  {
   "cell_type": "code",
   "execution_count": 22,
   "metadata": {},
   "outputs": [
    {
     "name": "stdout",
     "output_type": "stream",
     "text": [
      "Loaded cifar10\n"
     ]
    }
   ],
   "source": [
    "cifar10 = Cifar10Loader()\n",
    "path = \"./TestData/\"\n",
    "data, labels = cifar10.load(path=path)\n",
    "data, labels = data[:], labels[:]\n",
    "print(\"Loaded cifar10\")\n",
    "\n",
    "np.random.seed(1234)"
   ]
  },
  {
   "cell_type": "code",
   "execution_count": 23,
   "metadata": {},
   "outputs": [],
   "source": [
    "optimizer = MomentumSGD()\n",
    "optimizer.setupOn(b, useGlobalState=True)\n",
    "optimizer.learnRate = 0.01\n",
    "optimizer.momRate = 0.9\n",
    "\n",
    "cost = CrossEntropy(maxlabels=10)\n",
    "\n",
    "trainer = Trainer(b, cost, optimizer)\n",
    "\n",
    "validator = Validator(b, cost)"
   ]
  },
  {
   "cell_type": "code",
   "execution_count": 24,
   "metadata": {},
   "outputs": [],
   "source": [
    "currerror = math.inf"
   ]
  },
  {
   "cell_type": "code",
   "execution_count": 25,
   "metadata": {},
   "outputs": [
    {
     "data": {
      "text/plain": [
       "(100,)"
      ]
     },
     "execution_count": 25,
     "metadata": {},
     "output_type": "execute_result"
    }
   ],
   "source": [
    "labels[:100].shape"
   ]
  },
  {
   "cell_type": "code",
   "execution_count": 26,
   "metadata": {},
   "outputs": [
    {
     "name": "stdout",
     "output_type": "stream",
     "text": [
      "Train error: 1.46144\n",
      "Accuracy: 0.523\n",
      "Train error: 1.094353984375\n",
      "Accuracy: 0.6194\n",
      "Train error: 0.936843203125\n",
      "Accuracy: 0.6384000000000001\n",
      "Train error: 0.827614765625\n",
      "Accuracy: 0.6759999999999999\n",
      "Train error: 0.75216296875\n",
      "Accuracy: 0.6946\n",
      "Train error: 0.697643515625\n",
      "Accuracy: 0.7174\n",
      "Train error: 0.646631015625\n",
      "Accuracy: 0.7215\n",
      "Train error: 0.6072823828125\n",
      "Accuracy: 0.7194\n",
      "Lowered learn rate: 0.005\n",
      "Train error: 0.523757734375\n",
      "Accuracy: 0.75\n",
      "Train error: 0.49664015625\n",
      "Accuracy: 0.7601\n",
      "Train error: 0.4779570703125\n",
      "Accuracy: 0.7499\n",
      "Lowered learn rate: 0.0025\n",
      "Train error: 0.423093046875\n",
      "Accuracy: 0.7655000000000001\n",
      "Train error: 0.4057825390625\n",
      "Accuracy: 0.7633\n",
      "Lowered learn rate: 0.00125\n",
      "Train error: 0.3757782421875\n",
      "Accuracy: 0.7709\n",
      "Train error: 0.3647407421875\n",
      "Accuracy: 0.7696000000000001\n",
      "Lowered learn rate: 0.000625\n",
      "Train error: 0.347511953125\n",
      "Accuracy: 0.7705\n",
      "Train error: 0.34225375\n",
      "Accuracy: 0.7703\n",
      "Lowered learn rate: 0.0003125\n",
      "Train error: 0.33272578125\n",
      "Accuracy: 0.7723\n",
      "Train error: 0.3300464453125\n",
      "Accuracy: 0.7735\n",
      "Train error: 0.327682421875\n",
      "Accuracy: 0.7738\n",
      "Train error: 0.325064453125\n",
      "Accuracy: 0.7719\n",
      "Lowered learn rate: 0.00015625\n",
      "Train error: 0.32037439453125\n",
      "Accuracy: 0.7734\n",
      "Train error: 0.3188576953125\n",
      "Accuracy: 0.7721\n",
      "Lowered learn rate: 7.8125e-05\n",
      "Train error: 0.3162277734375\n",
      "Accuracy: 0.7724\n",
      "Train error: 0.31555328125\n",
      "Accuracy: 0.7738\n"
     ]
    }
   ],
   "source": [
    "for i in range(25):\n",
    "    trainer.trainFromHost(\n",
    "    data[:50000], labels[:50000], macroBatchSize=50000,\n",
    "    onMacroBatchFinish=lambda train: print(\"Train error: %s\" % train.cost.getMeanError())\n",
    "    )\n",
    "    valerror = validator.validateFromHost(data[50000:], labels[50000:], macroBatchSize=10000)\n",
    "    Accuracy = 1.0 - valerror\n",
    "    print(\"Accuracy:\", Accuracy)\n",
    "    \n",
    "    if valerror >= currerror:\n",
    "        optimizer.learnRate *= 0.5\n",
    "        print(\"Lowered learn rate: %s\" % optimizer.learnRate)\n",
    "\n",
    "    currerror = valerror"
   ]
  },
  {
   "cell_type": "code",
   "execution_count": 27,
   "metadata": {},
   "outputs": [
    {
     "name": "stdout",
     "output_type": "stream",
     "text": [
      "Final accuracy: 0.7738\n"
     ]
    }
   ],
   "source": [
    "print(\"Final accuracy:\", Accuracy)"
   ]
  },
  {
   "cell_type": "code",
   "execution_count": null,
   "metadata": {},
   "outputs": [],
   "source": []
  }
 ],
 "metadata": {
  "kernelspec": {
   "display_name": "Python 3",
   "language": "python",
   "name": "python3"
  },
  "language_info": {
   "codemirror_mode": {
    "name": "ipython",
    "version": 3
   },
   "file_extension": ".py",
   "mimetype": "text/x-python",
   "name": "python",
   "nbconvert_exporter": "python",
   "pygments_lexer": "ipython3",
   "version": "3.6.5"
  }
 },
 "nbformat": 4,
 "nbformat_minor": 4
}
