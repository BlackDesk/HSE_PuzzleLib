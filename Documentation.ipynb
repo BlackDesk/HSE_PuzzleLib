{
 "cells": [
  {
   "cell_type": "markdown",
   "metadata": {
    "id": "12FU92zA5Mu6"
   },
   "source": [
    "\n",
    "*В этом документе представлено общее описание библиотеки PuzzleLib и документация для модулей Linear и Activation в разделе Modules*"
   ]
  },
  {
   "cell_type": "code",
   "execution_count": 1,
   "metadata": {
    "id": "BP4mMqRqXCl2"
   },
   "outputs": [],
   "source": [
    "import numpy as np\n",
    "import matplotlib.pyplot as plt"
   ]
  },
  {
   "cell_type": "markdown",
   "metadata": {
    "id": "mr9h7xdp6maI"
   },
   "source": [
    "#**PuzzleLib**\n",
    "PuzzleLib - модульная динамическая библиотека для использования в машинном обучении, полностью разработанная в России. Она наследует принципы дизайна Torch и Chainer, а оптимизации различного рода позволяют опережать конкурентов в решении некоторых задач"
   ]
  },
  {
   "cell_type": "markdown",
   "metadata": {
    "id": "eGM5nHxA75vn"
   },
   "source": [
    "# **Раздел Modules** \n"
   ]
  },
  {
   "cell_type": "markdown",
   "metadata": {
    "id": "ATwKTqFpF1wi"
   },
   "source": [
    "Нейронные сети всегда имеют четкую структуру, каждую из них можно разделить на независимые блоки. В разделе Modules описаны составляющие нейронных сетей. Из них, как из конструктора, можно собирать готовые модели для решения различных задач."
   ]
  },
  {
   "cell_type": "markdown",
   "metadata": {
    "id": "K8owkLPULWif"
   },
   "source": [
    "##**Linear**\n",
    "Этот модуль выполняет операцию линейного преобразования к входным данным:\n",
    "\n",
    "$y = xW^T + b$\n",
    "\n",
    "Переменная|Описание| \n",
    "--|--|\n",
    "$x$ | вектор признаков на входе\n",
    "$y$ | вектор признаков после преобразования\n",
    "$W$ | матрица весов слоя\n",
    "$b$ | вектор смещений слоя"
   ]
  },
  {
   "cell_type": "markdown",
   "metadata": {
    "id": "8ZA6n2faPCt7"
   },
   "source": [
    "### **Инициализация**"
   ]
  },
  {
   "cell_type": "code",
   "execution_count": null,
   "metadata": {
    "colab": {
     "base_uri": "https://localhost:8080/",
     "height": 130
    },
    "id": "1g386M_rPJsG",
    "outputId": "0fb8a105-79ed-46ff-9b6c-e8875b61c348"
   },
   "outputs": [],
   "source": [
    "def __init__(self,  insize,  outsize,  wscale=1.0,  useBias=True,  initscheme=None,  name=None,  empty=False,  transpose=False):"
   ]
  },
  {
   "cell_type": "markdown",
   "metadata": {
    "id": "PurBLpJWPMo0"
   },
   "source": [
    "Параметр|Тип|Значение по умолчанию | Описание \n",
    "--|--|--|--\n",
    "insize|int|None|Размер входного вектора\n",
    "outsize|int|None|Размер выходного вектора\n",
    "wscale|float|1.0|Дисперсия случайных весов слоя\n",
    "useBias|bool|True|Использовать ли смещения|\n",
    "initscheme|Union[tuple,str]|None -> (\"xavier_uniform\", \"in\")|Указывает схему инициализации весов слоя\n",
    "name|str|None|Название слоя\n",
    "empty|bool|False|Инициализировать ли матрицу весов и смещений\n",
    "transpose|bool|False|Использование транспонированной матрицы"
   ]
  },
  {
   "cell_type": "markdown",
   "metadata": {
    "id": "rJo-ubQUQmjm"
   },
   "source": [
    "Здесь должно быть пояснение"
   ]
  },
  {
   "cell_type": "markdown",
   "metadata": {
    "id": "05WaVYZLQyPz"
   },
   "source": [
    "### **Примеры**"
   ]
  },
  {
   "cell_type": "code",
   "execution_count": 16,
   "metadata": {
    "id": "OVd3X3XHQ66c"
   },
   "outputs": [],
   "source": [
    "import numpy as np\n",
    "from PuzzleLib.Backend import gpuarray \n",
    "# (gpuarray необходим для правильного размещения тензора на GPU)\n",
    "from PuzzleLib.Modules import Linear, Activation"
   ]
  },
  {
   "cell_type": "markdown",
   "metadata": {
    "id": "FU_EluaTQ8ai"
   },
   "source": [
    "Импортируем библиотеки"
   ]
  },
  {
   "cell_type": "code",
   "execution_count": 4,
   "metadata": {
    "id": "kPv0GEqrRFaH"
   },
   "outputs": [
    {
     "name": "stdout",
     "output_type": "stream",
     "text": [
      "(10, 32)\n"
     ]
    }
   ],
   "source": [
    "batchsize, insize, outsize = 10, 32, 16\n",
    "data = gpuarray.to_gpu(np.random.randn(batchsize, insize).astype(np.float32))\n",
    "print(data.shape)"
   ]
  },
  {
   "cell_type": "code",
   "execution_count": 5,
   "metadata": {
    "id": "tTVka0OKRG5J"
   },
   "outputs": [
    {
     "name": "stdout",
     "output_type": "stream",
     "text": [
      "(32, 16)\n"
     ]
    }
   ],
   "source": [
    "linear = Linear(insize, outsize)\n",
    "print(linear.W.shape)"
   ]
  },
  {
   "cell_type": "code",
   "execution_count": 6,
   "metadata": {
    "id": "sC4Llhe6RJMm"
   },
   "outputs": [
    {
     "name": "stdout",
     "output_type": "stream",
     "text": [
      "(10, 16)\n"
     ]
    }
   ],
   "source": [
    "linear(data)\n",
    "print(linear.data.shape)"
   ]
  },
  {
   "cell_type": "code",
   "execution_count": 7,
   "metadata": {},
   "outputs": [
    {
     "name": "stdout",
     "output_type": "stream",
     "text": [
      "[[-0.3197402   1.2328159   0.46834356  0.7436919  -1.9497484  -0.16786543\n",
      "  -0.16839103  0.0261829   0.2682909   0.20388171  0.26491734 -0.3437716\n",
      "  -1.1270636  -0.10029671  0.5139712  -0.31435123]\n",
      " [ 0.40998095  0.02731934  0.3786441   0.3880307   0.7077934   0.08800349\n",
      "  -1.7414784  -0.9395337   1.3186111  -1.3282318  -1.1814835  -1.3582149\n",
      "  -1.5159658  -0.43157     0.34454903 -2.052954  ]\n",
      " [ 0.45942864  0.8885462  -1.0553498   0.94729686 -1.1889195   0.24365008\n",
      "   0.38722283  1.2884142   0.59392345 -0.05463737 -0.79470533 -2.8912733\n",
      "  -1.4132223   0.07540387  0.8564      0.28601575]\n",
      " [ 0.2721995  -2.295403    1.1211926  -0.911956   -1.2407589   0.07401779\n",
      "   0.65405947 -0.03374648 -2.2926965   0.8591285   1.0049876  -0.35994595\n",
      "  -0.39903834 -2.8809867  -0.5148461   1.495196  ]\n",
      " [-0.03328639  0.5384829   2.7887826  -0.5898168  -2.3799732  -0.06914496\n",
      "   0.60737014 -0.894528    0.5379337  -1.2013332  -0.26457077  1.0192693\n",
      "  -0.19525947 -0.20170009 -0.29170448 -0.42232445]\n",
      " [ 0.3905581  -0.22408804 -1.1357763  -0.3123272   0.90013725  0.8501317\n",
      "   2.2542157   0.29916728 -0.69754857  0.28430218  0.20443574 -1.1951942\n",
      "   0.3493171   0.28841656 -0.6334945  -0.13282824]\n",
      " [ 1.4096586  -1.4991034  -0.41600567  0.15806013  1.5278287   0.22950834\n",
      "  -0.09062377  0.6492669  -1.1754363   0.6916356   0.08392447 -1.5300763\n",
      "  -1.8548405  -1.9772775  -0.27536094 -1.0739598 ]\n",
      " [-2.7221477  -0.7322115   1.6648134  -1.6423748  -0.8809871   0.84746134\n",
      "  -1.1867734  -0.43618667  0.64866513 -1.0145338  -0.8446804  -0.17323792\n",
      "  -0.44086185 -1.379717   -0.86034185 -2.3390381 ]\n",
      " [ 0.24549115 -0.42716545 -0.24339801 -1.2052461  -0.9181679   0.7579024\n",
      "  -0.52546674  1.7747004  -0.38411498  1.1743026  -0.6304794   0.5562491\n",
      "   0.16145602 -1.529311    1.0359728  -0.2882267 ]\n",
      " [-1.2093011   1.1071624  -0.7129344   0.393108    1.3043526   1.3917532\n",
      "  -0.8997551   0.5227822  -0.9941554   1.6582613   0.20328686 -0.3636291\n",
      "  -0.60019445  0.33070934 -0.14279032 -1.0566514 ]]\n"
     ]
    }
   ],
   "source": [
    "print(linear(data))"
   ]
  },
  {
   "cell_type": "markdown",
   "metadata": {
    "id": "pXsNnsAdRORg"
   },
   "source": [
    "## **Activation**\n",
    "Этот модуль реализует операцию активации слоя.\n",
    "\n",
    "Функция активации — это способ добавить нелинейность в граф нейросети. Это необходимо чтобы улавливать нелинейные зависимости в данных. Нейросеть состоящая только из линейных слоев на это неспособна так как композиция линейных функций линейна"
   ]
  },
  {
   "cell_type": "markdown",
   "metadata": {
    "id": "7kO_bDHhRpNW"
   },
   "source": [
    "### **Sigmoid (Сигмоид)**\n",
    "Принимает на вход произвольное вещественное число, а на выходе дает вещественное число в интервале от 0 до 1.\n",
    "\n",
    "Вычисляется по формуле:\n",
    "\n",
    "$\\sigma(x) = \\frac{1}{1+e^{-x}}$"
   ]
  },
  {
   "cell_type": "code",
   "execution_count": 35,
   "metadata": {
    "colab": {
     "base_uri": "https://localhost:8080/",
     "height": 320
    },
    "id": "zk4P2hjURq-b",
    "outputId": "ca783411-c0f2-4ccb-db54-7cfe972d34ee"
   },
   "outputs": [
    {
     "data": {
      "image/png": "[encoded data removed]",
      "text/plain": [
       "<Figure size 720x360 with 1 Axes>"
      ]
     },
     "metadata": {
      "needs_background": "light"
     },
     "output_type": "display_data"
    }
   ],
   "source": [
    "x = np.linspace(-10, 10, 1000)\n",
    "y = 1 / (1 + np.exp(-x) )\n",
    "\n",
    "act = Activation(\"sigmoid\")\n",
    "y_puzzlelib = act(gpuarray.to_gpu(x.astype(np.float32)))\n",
    "\n",
    "plt.figure(figsize=(10, 5))\n",
    "plt.plot(x, y)\n",
    "plt.legend(['sigmoid function'])\n",
    "plt.show()"
   ]
  },
  {
   "cell_type": "code",
   "execution_count": 36,
   "metadata": {},
   "outputs": [
    {
     "name": "stdout",
     "output_type": "stream",
     "text": [
      "[4.53978646e-05 4.63158831e-05 4.72524043e-05 4.82078904e-05\n",
      " 4.91826650e-05 5.01772156e-05 5.11918079e-05 5.22269547e-05\n",
      " 5.32829872e-05 5.43604510e-05 5.54596263e-05 5.65810624e-05\n",
      " 5.77251740e-05 5.88924158e-05 6.00832209e-05 6.12981821e-05\n",
      " 6.25376342e-05 6.38021811e-05 6.50922593e-05 6.64085019e-05\n",
      " 6.77512726e-05 6.91212408e-05 7.05188504e-05 7.19448217e-05\n",
      " 7.33995330e-05 7.48836974e-05 7.63978242e-05 7.79426700e-05\n",
      " 7.95186352e-05 8.11265199e-05 8.27669137e-05 8.44404858e-05\n",
      " 8.61478256e-05 8.78898063e-05 8.96668862e-05 9.14799530e-05\n",
      " 9.33296251e-05 9.52167975e-05 9.71420159e-05 9.91062261e-05\n",
      " 1.01110199e-04 1.03154569e-04 1.05240317e-04 1.07368185e-04\n",
      " 1.09539207e-04 1.11753972e-04 1.14013594e-04 1.16318828e-04\n",
      " 1.18670810e-04 1.21070188e-04 1.23518155e-04 1.26015613e-04\n",
      " 1.28563566e-04 1.31162931e-04 1.33815032e-04 1.36520568e-04\n",
      " 1.39280892e-04 1.42096920e-04 1.44970079e-04 1.47901112e-04\n",
      " 1.50891501e-04 1.53942237e-04 1.57054863e-04 1.60230193e-04\n",
      " 1.63469827e-04 1.66774829e-04 1.70146872e-04 1.73586857e-04\n",
      " 1.77096503e-04 1.80676943e-04 1.84330042e-04 1.88056729e-04\n",
      " 1.91858984e-04 1.95737855e-04 1.99695249e-04 2.03732503e-04\n",
      " 2.07851655e-04 2.12053768e-04 2.16340966e-04 2.20714704e-04\n",
      " 2.25177078e-04 2.29729558e-04 2.34373889e-04 2.39112385e-04\n",
      " 2.43946357e-04 2.48878205e-04 2.53909559e-04 2.59042921e-04\n",
      " 2.64279719e-04 2.69622513e-04 2.75073107e-04 2.80634238e-04\n",
      " 2.86307390e-04 2.92095589e-04 2.98000348e-04 3.04024608e-04\n",
      " 3.10170464e-04 3.16440914e-04 3.22837703e-04 3.29363946e-04\n",
      " 3.36022058e-04 3.42814747e-04 3.49744456e-04 3.56814446e-04\n",
      " 3.64027277e-04 3.71385860e-04 3.78893135e-04 3.86551867e-04\n",
      " 3.94365576e-04 4.02337202e-04 4.10469918e-04 4.18766635e-04\n",
      " 4.27231280e-04 4.35866968e-04 4.44677076e-04 4.53665212e-04\n",
      " 4.62834636e-04 4.72189626e-04 4.81733558e-04 4.91470390e-04\n",
      " 5.01403527e-04 5.11537655e-04 5.21876558e-04 5.32424252e-04\n",
      " 5.43185044e-04 5.54162834e-04 5.65362745e-04 5.76788792e-04\n",
      " 5.88445750e-04 6.00337633e-04 6.12470263e-04 6.24847831e-04\n",
      " 6.37475343e-04 6.50357979e-04 6.63500279e-04 6.76908414e-04\n",
      " 6.90587272e-04 7.04542501e-04 7.18778989e-04 7.33303430e-04\n",
      " 7.48121587e-04 7.63237942e-04 7.78660062e-04 7.94393593e-04\n",
      " 8.10444704e-04 8.26819916e-04 8.43525049e-04 8.60568136e-04\n",
      " 8.77955114e-04 8.95693083e-04 9.13788623e-04 9.32249939e-04\n",
      " 9.51083843e-04 9.70297900e-04 9.89899854e-04 1.00989651e-03\n",
      " 1.03029760e-03 1.05111022e-03 1.07234286e-03 1.09400321e-03\n",
      " 1.11610140e-03 1.13864534e-03 1.16164424e-03 1.18510623e-03\n",
      " 1.20904238e-03 1.23346131e-03 1.25837291e-03 1.28378696e-03\n",
      " 1.30971265e-03 1.33616221e-03 1.36314507e-03 1.39067217e-03\n",
      " 1.41875329e-03 1.44740159e-03 1.47662766e-03 1.50644302e-03\n",
      " 1.53685920e-03 1.56788772e-03 1.59954268e-03 1.63183582e-03\n",
      " 1.66477961e-03 1.69838744e-03 1.73267245e-03 1.76764850e-03\n",
      " 1.80332921e-03 1.83972763e-03 1.87686086e-03 1.91474182e-03\n",
      " 1.95338577e-03 1.99280703e-03 2.03302340e-03 2.07404979e-03\n",
      " 2.11590249e-03 2.15859618e-03 2.20215088e-03 2.24658241e-03\n",
      " 2.29190849e-03 2.33814702e-03 2.38531455e-03 2.43343250e-03\n",
      " 2.48251902e-03 2.53259321e-03 2.58367299e-03 2.63578212e-03\n",
      " 2.68893922e-03 2.74316571e-03 2.79848254e-03 2.85490952e-03\n",
      " 2.91247317e-03 2.97119399e-03 3.03109479e-03 3.09219793e-03\n",
      " 3.15453066e-03 3.21811601e-03 3.28297890e-03 3.34914471e-03\n",
      " 3.41663719e-03 3.48548731e-03 3.55571997e-03 3.62736243e-03\n",
      " 3.70044308e-03 3.77499033e-03 3.85103375e-03 3.92860221e-03\n",
      " 4.00772644e-03 4.08843905e-03 4.17076983e-03 4.25475044e-03\n",
      " 4.34041629e-03 4.42779763e-03 4.51693172e-03 4.60785069e-03\n",
      " 4.70059179e-03 4.79518948e-03 4.89168288e-03 4.99010831e-03\n",
      " 5.09050256e-03 5.19290753e-03 5.29736001e-03 5.40390378e-03\n",
      " 5.51257702e-03 5.62342489e-03 5.73648745e-03 5.85181080e-03\n",
      " 5.96943730e-03 6.08941540e-03 6.21179026e-03 6.33660611e-03\n",
      " 6.46391651e-03 6.59376476e-03 6.72620675e-03 6.86128810e-03\n",
      " 6.99906517e-03 7.13958638e-03 7.28291087e-03 7.42909079e-03\n",
      " 7.57818064e-03 7.73024093e-03 7.88532663e-03 8.04349966e-03\n",
      " 8.20482336e-03 8.36934894e-03 8.53714813e-03 8.70827958e-03\n",
      " 8.88281316e-03 9.06081032e-03 9.24234279e-03 9.42747947e-03\n",
      " 9.61628463e-03 9.80883650e-03 1.00052021e-02 1.02054616e-02\n",
      " 1.04096830e-02 1.06179519e-02 1.08303381e-02 1.10469293e-02\n",
      " 1.12678027e-02 1.14930356e-02 1.17227221e-02 1.19569395e-02\n",
      " 1.21957818e-02 1.24393320e-02 1.26876896e-02 1.29409339e-02\n",
      " 1.31991692e-02 1.34624839e-02 1.37309832e-02 1.40047604e-02\n",
      " 1.42839141e-02 1.45685542e-02 1.48587767e-02 1.51546951e-02\n",
      " 1.54564111e-02 1.57640409e-02 1.60776880e-02 1.63974799e-02\n",
      " 1.67235229e-02 1.70559306e-02 1.73948351e-02 1.77403446e-02\n",
      " 1.80925969e-02 1.84517149e-02 1.88178215e-02 1.91910435e-02\n",
      " 1.95715297e-02 1.99593958e-02 2.03547981e-02 2.07578577e-02\n",
      " 2.11687367e-02 2.15875618e-02 2.20145006e-02 2.24496722e-02\n",
      " 2.28932556e-02 2.33453847e-02 2.38062348e-02 2.42759455e-02\n",
      " 2.47547012e-02 2.52426546e-02 2.57399585e-02 2.62468066e-02\n",
      " 2.67633572e-02 2.72897929e-02 2.78262775e-02 2.83730142e-02\n",
      " 2.89301611e-02 2.94979252e-02 3.00764833e-02 3.06660347e-02\n",
      " 3.12667713e-02 3.18788774e-02 3.25025767e-02 3.31380591e-02\n",
      " 3.37855332e-02 3.44451964e-02 3.51172872e-02 3.58019881e-02\n",
      " 3.64995487e-02 3.72101627e-02 3.79340760e-02 3.86715010e-02\n",
      " 3.94226797e-02 4.01878320e-02 4.09672149e-02 4.17610519e-02\n",
      " 4.25695777e-02 4.33930643e-02 4.42317240e-02 4.50858474e-02\n",
      " 4.59556580e-02 4.68414351e-02 4.77434359e-02 4.86619137e-02\n",
      " 4.95971330e-02 5.05493842e-02 5.15189022e-02 5.25060147e-02\n",
      " 5.35109565e-02 5.45340367e-02 5.55755310e-02 5.66357076e-02\n",
      " 5.77148870e-02 5.88133335e-02 5.99313825e-02 6.10692836e-02\n",
      " 6.22273609e-02 6.34059235e-02 6.46052659e-02 6.58257008e-02\n",
      " 6.70675337e-02 6.83310851e-02 6.96166828e-02 7.09246099e-02\n",
      " 7.22551942e-02 7.36087710e-02 7.49856532e-02 7.63861611e-02\n",
      " 7.78106302e-02 7.92593881e-02 8.07327703e-02 8.22310820e-02\n",
      " 8.37546587e-02 8.53038505e-02 8.68789777e-02 8.84803683e-02\n",
      " 9.01083723e-02 9.17633176e-02 9.34455320e-02 9.51553509e-02\n",
      " 9.68931317e-02 9.86591652e-02 1.00453839e-01 1.02277428e-01\n",
      " 1.04130283e-01 1.06012769e-01 1.07925169e-01 1.09867811e-01\n",
      " 1.11841053e-01 1.13845199e-01 1.15880579e-01 1.17947496e-01\n",
      " 1.20046280e-01 1.22177221e-01 1.24340661e-01 1.26536906e-01\n",
      " 1.28766209e-01 1.31028906e-01 1.33325294e-01 1.35655627e-01\n",
      " 1.38020203e-01 1.40419304e-01 1.42853186e-01 1.45322129e-01\n",
      " 1.47826374e-01 1.50366187e-01 1.52941808e-01 1.55553490e-01\n",
      " 1.58201426e-01 1.60885841e-01 1.63606972e-01 1.66364983e-01\n",
      " 1.69160098e-01 1.71992466e-01 1.74862280e-01 1.77769706e-01\n",
      " 1.80714890e-01 1.83697984e-01 1.86719075e-01 1.89778283e-01\n",
      " 1.92875743e-01 1.96011528e-01 1.99185699e-01 2.02398375e-01\n",
      " 2.05649510e-01 2.08939224e-01 2.12267503e-01 2.15634316e-01\n",
      " 2.19039723e-01 2.22483620e-01 2.25965992e-01 2.29486823e-01\n",
      " 2.33045936e-01 2.36643374e-01 2.40278870e-01 2.43952408e-01\n",
      " 2.47663781e-01 2.51412868e-01 2.55199462e-01 2.59023309e-01\n",
      " 2.62884259e-01 2.66782045e-01 2.70716369e-01 2.74686992e-01\n",
      " 2.78693616e-01 2.82735884e-01 2.86813468e-01 2.90926039e-01\n",
      " 2.95073122e-01 2.99254417e-01 3.03469419e-01 3.07717741e-01\n",
      " 3.11998904e-01 3.16312373e-01 3.20657730e-01 3.25034410e-01\n",
      " 3.29441816e-01 3.33879441e-01 3.38346660e-01 3.42842937e-01\n",
      " 3.47367585e-01 3.51919919e-01 3.56499344e-01 3.61105204e-01\n",
      " 3.65736663e-01 3.70393157e-01 3.75073850e-01 3.79778028e-01\n",
      " 3.84504914e-01 3.89253676e-01 3.94023508e-01 3.98813725e-01\n",
      " 4.03623313e-01 4.08451557e-01 4.13297474e-01 4.18160290e-01\n",
      " 4.23039019e-01 4.27932829e-01 4.32840765e-01 4.37761903e-01\n",
      " 4.42695379e-01 4.47640151e-01 4.52595264e-01 4.57559824e-01\n",
      " 4.62532818e-01 4.67513293e-01 4.72500265e-01 4.77492720e-01\n",
      " 4.82489675e-01 4.87490118e-01 4.92493004e-01 4.97497499e-01\n",
      " 5.02502501e-01 5.07506967e-01 5.12509882e-01 5.17510355e-01\n",
      " 5.22507310e-01 5.27499735e-01 5.32486677e-01 5.37467182e-01\n",
      " 5.42440236e-01 5.47404766e-01 5.52359879e-01 5.57304680e-01\n",
      " 5.62238097e-01 5.67159235e-01 5.72067201e-01 5.76960981e-01\n",
      " 5.81839740e-01 5.86702526e-01 5.91548443e-01 5.96376657e-01\n",
      " 6.01186275e-01 6.05976462e-01 6.10746324e-01 6.15495145e-01\n",
      " 6.20222032e-01 6.24926150e-01 6.29606783e-01 6.34263337e-01\n",
      " 6.38894856e-01 6.43500686e-01 6.48080051e-01 6.52632415e-01\n",
      " 6.57157063e-01 6.61653340e-01 6.66120529e-01 6.70558214e-01\n",
      " 6.74965560e-01 6.79342270e-01 6.83687627e-01 6.88001156e-01\n",
      " 6.92282259e-01 6.96530581e-01 7.00745583e-01 7.04926908e-01\n",
      " 7.09074020e-01 7.13186562e-01 7.17264175e-01 7.21306384e-01\n",
      " 7.25313067e-01 7.29283631e-01 7.33217955e-01 7.37115741e-01\n",
      " 7.40976632e-01 7.44800508e-01 7.48587072e-01 7.52336204e-01\n",
      " 7.56047606e-01 7.59721100e-01 7.63356686e-01 7.66954124e-01\n",
      " 7.70513237e-01 7.74033964e-01 7.77516365e-01 7.80960262e-01\n",
      " 7.84365654e-01 7.87732542e-01 7.91060805e-01 7.94350505e-01\n",
      " 7.97601700e-01 8.00814271e-01 8.03988457e-01 8.07124257e-01\n",
      " 8.10221732e-01 8.13280940e-01 8.16302061e-01 8.19285154e-01\n",
      " 8.22230279e-01 8.25137675e-01 8.28007519e-01 8.30839872e-01\n",
      " 8.33634973e-01 8.36393058e-01 8.39114130e-01 8.41798604e-01\n",
      " 8.44446480e-01 8.47058237e-01 8.49633813e-01 8.52173626e-01\n",
      " 8.54677916e-01 8.57146859e-01 8.59580755e-01 8.61979783e-01\n",
      " 8.64344358e-01 8.66674721e-01 8.68971109e-01 8.71233761e-01\n",
      " 8.73463154e-01 8.75659347e-01 8.77822757e-01 8.79953802e-01\n",
      " 8.82052541e-01 8.84119391e-01 8.86154771e-01 8.88158977e-01\n",
      " 8.90132129e-01 8.92074823e-01 8.93987298e-01 8.95869732e-01\n",
      " 8.97722602e-01 8.99546206e-01 9.01340842e-01 9.03106809e-01\n",
      " 9.04844582e-01 9.06554520e-01 9.08236623e-01 9.09891665e-01\n",
      " 9.11519706e-01 9.13121045e-01 9.14696157e-01 9.16245341e-01\n",
      " 9.17768896e-01 9.19267297e-01 9.20740604e-01 9.22189355e-01\n",
      " 9.23613787e-01 9.25014317e-01 9.26391244e-01 9.27744806e-01\n",
      " 9.29075420e-01 9.30383325e-01 9.31668878e-01 9.32932496e-01\n",
      " 9.34174299e-01 9.35394764e-01 9.36594069e-01 9.37772632e-01\n",
      " 9.38930690e-01 9.40068603e-01 9.41186726e-01 9.42285061e-01\n",
      " 9.43364203e-01 9.44424510e-01 9.45465982e-01 9.46489036e-01\n",
      " 9.47494030e-01 9.48481143e-01 9.49450612e-01 9.50402796e-01\n",
      " 9.51338053e-01 9.52256560e-01 9.53158557e-01 9.54044402e-01\n",
      " 9.54914212e-01 9.55768287e-01 9.56606984e-01 9.57430422e-01\n",
      " 9.58238959e-01 9.59032774e-01 9.59812224e-01 9.60577309e-01\n",
      " 9.61328506e-01 9.62065935e-01 9.62789893e-01 9.63500500e-01\n",
      " 9.64198053e-01 9.64882672e-01 9.65554833e-01 9.66214418e-01\n",
      " 9.66861904e-01 9.67497408e-01 9.68121171e-01 9.68733251e-01\n",
      " 9.69333887e-01 9.69923556e-01 9.70502019e-01 9.71069813e-01\n",
      " 9.71626997e-01 9.72173691e-01 9.72710192e-01 9.73236620e-01\n",
      " 9.73753154e-01 9.74260032e-01 9.74757373e-01 9.75245357e-01\n",
      " 9.75724041e-01 9.76193786e-01 9.76654649e-01 9.77106750e-01\n",
      " 9.77550387e-01 9.77985501e-01 9.78412449e-01 9.78831232e-01\n",
      " 9.79242086e-01 9.79645193e-01 9.80040669e-01 9.80428517e-01\n",
      " 9.80808973e-01 9.81182158e-01 9.81548309e-01 9.81907427e-01\n",
      " 9.82259631e-01 9.82605159e-01 9.82944131e-01 9.83276486e-01\n",
      " 9.83602583e-01 9.83922362e-01 9.84236002e-01 9.84543622e-01\n",
      " 9.84845281e-01 9.85141277e-01 9.85431373e-01 9.85716105e-01\n",
      " 9.85995233e-01 9.86269057e-01 9.86537457e-01 9.86800790e-01\n",
      " 9.87058997e-01 9.87312257e-01 9.87560630e-01 9.87804174e-01\n",
      " 9.88043070e-01 9.88277256e-01 9.88506913e-01 9.88732219e-01\n",
      " 9.88953114e-01 9.89169717e-01 9.89382029e-01 9.89590347e-01\n",
      " 9.89794612e-01 9.89994824e-01 9.90191162e-01 9.90383804e-01\n",
      " 9.90572572e-01 9.90757644e-01 9.90939140e-01 9.91117239e-01\n",
      " 9.91291761e-01 9.91462946e-01 9.91630614e-01 9.91795242e-01\n",
      " 9.91956472e-01 9.92114663e-01 9.92269814e-01 9.92421806e-01\n",
      " 9.92570937e-01 9.92717087e-01 9.92860377e-01 9.93000984e-01\n",
      " 9.93138731e-01 9.93273735e-01 9.93406177e-01 9.93536055e-01\n",
      " 9.93663430e-01 9.93788183e-01 9.93910551e-01 9.94030535e-01\n",
      " 9.94148254e-01 9.94263470e-01 9.94376600e-01 9.94487405e-01\n",
      " 9.94596004e-01 9.94702637e-01 9.94807005e-01 9.94909465e-01\n",
      " 9.95009899e-01 9.95108306e-01 9.95204747e-01 9.95299339e-01\n",
      " 9.95392203e-01 9.95483041e-01 9.95572209e-01 9.95659530e-01\n",
      " 9.95745242e-01 9.95829284e-01 9.95911539e-01 9.95992184e-01\n",
      " 9.96071458e-01 9.96148884e-01 9.96224999e-01 9.96299505e-01\n",
      " 9.96372640e-01 9.96444285e-01 9.96514440e-01 9.96583343e-01\n",
      " 9.96650875e-01 9.96717036e-01 9.96781826e-01 9.96845424e-01\n",
      " 9.96907771e-01 9.96968865e-01 9.97028828e-01 9.97087538e-01\n",
      " 9.97145116e-01 9.97201562e-01 9.97256815e-01 9.97311115e-01\n",
      " 9.97364223e-01 9.97416258e-01 9.97467399e-01 9.97517467e-01\n",
      " 9.97566521e-01 9.97614741e-01 9.97661829e-01 9.97708082e-01\n",
      " 9.97753441e-01 9.97797847e-01 9.97841358e-01 9.97884095e-01\n",
      " 9.97925878e-01 9.97966945e-01 9.98007238e-01 9.98046637e-01\n",
      " 9.98085260e-01 9.98123109e-01 9.98160303e-01 9.98196661e-01\n",
      " 9.98232365e-01 9.98267293e-01 9.98301625e-01 9.98335302e-01\n",
      " 9.98368204e-01 9.98400509e-01 9.98432100e-01 9.98463154e-01\n",
      " 9.98493552e-01 9.98523414e-01 9.98552620e-01 9.98581290e-01\n",
      " 9.98609304e-01 9.98636901e-01 9.98663783e-01 9.98690307e-01\n",
      " 9.98716235e-01 9.98741686e-01 9.98766482e-01 9.98790979e-01\n",
      " 9.98814881e-01 9.98838365e-01 9.98861313e-01 9.98883903e-01\n",
      " 9.98906016e-01 9.98927653e-01 9.98948812e-01 9.98969674e-01\n",
      " 9.98990119e-01 9.99010086e-01 9.99029756e-01 9.99048889e-01\n",
      " 9.99067664e-01 9.99086261e-01 9.99104321e-01 9.99122083e-01\n",
      " 9.99139428e-01 9.99156475e-01 9.99173105e-01 9.99189556e-01\n",
      " 9.99205589e-01 9.99221325e-01 9.99236822e-01 9.99251902e-01\n",
      " 9.99266684e-01 9.99281168e-01 9.99295473e-01 9.99309421e-01\n",
      " 9.99323070e-01 9.99336421e-01 9.99349654e-01 9.99362528e-01\n",
      " 9.99375105e-01 9.99387503e-01 9.99399662e-01 9.99411583e-01\n",
      " 9.99423206e-01 9.99434650e-01 9.99445856e-01 9.99456823e-01\n",
      " 9.99467552e-01 9.99478102e-01 9.99488473e-01 9.99498606e-01\n",
      " 9.99508500e-01 9.99518275e-01 9.99527752e-01 9.99537170e-01\n",
      " 9.99546349e-01 9.99555290e-01 9.99564111e-01 9.99572814e-01\n",
      " 9.99581277e-01 9.99589443e-01 9.99597669e-01 9.99605656e-01\n",
      " 9.99613404e-01 9.99621034e-01 9.99628544e-01 9.99635935e-01\n",
      " 9.99643207e-01 9.99650240e-01 9.99657154e-01 9.99663949e-01\n",
      " 9.99670565e-01 9.99677122e-01 9.99683559e-01 9.99689758e-01\n",
      " 9.99695957e-01 9.99701917e-01 9.99707878e-01 9.99713719e-01\n",
      " 9.99719322e-01 9.99724925e-01 9.99730408e-01 9.99735653e-01\n",
      " 9.99740899e-01 9.99746144e-01 9.99751151e-01 9.99756038e-01\n",
      " 9.99760926e-01 9.99765575e-01 9.99770224e-01 9.99774814e-01\n",
      " 9.99779224e-01 9.99783635e-01 9.99787927e-01 9.99792099e-01\n",
      " 9.99796271e-01 9.99800324e-01 9.99804258e-01 9.99808073e-01\n",
      " 9.99811888e-01 9.99815583e-01 9.99819279e-01 9.99822855e-01\n",
      " 9.99826431e-01 9.99829769e-01 9.99833226e-01 9.99836445e-01\n",
      " 9.99839783e-01 9.99842882e-01 9.99845982e-01 9.99849081e-01\n",
      " 9.99852061e-01 9.99855042e-01 9.99857903e-01 9.99860644e-01\n",
      " 9.99863505e-01 9.99866128e-01 9.99868870e-01 9.99871373e-01\n",
      " 9.99873996e-01 9.99876499e-01 9.99878883e-01 9.99881268e-01\n",
      " 9.99883652e-01 9.99885917e-01 9.99888182e-01 9.99890447e-01\n",
      " 9.99892592e-01 9.99894738e-01 9.99896884e-01 9.99898911e-01\n",
      " 9.99900937e-01 9.99902844e-01 9.99904752e-01 9.99906659e-01\n",
      " 9.99908566e-01 9.99910355e-01 9.99912143e-01 9.99913812e-01\n",
      " 9.99915600e-01 9.99917269e-01 9.99918818e-01 9.99920487e-01\n",
      " 9.99922037e-01 9.99923587e-01 9.99925137e-01 9.99926567e-01\n",
      " 9.99927998e-01 9.99929428e-01 9.99930859e-01 9.99932289e-01\n",
      " 9.99933600e-01 9.99934912e-01 9.99936223e-01 9.99937415e-01\n",
      " 9.99938726e-01 9.99939919e-01 9.99941111e-01 9.99942303e-01\n",
      " 9.99943376e-01 9.99944568e-01 9.99945641e-01 9.99946713e-01\n",
      " 9.99947786e-01 9.99948859e-01 9.99949813e-01 9.99950767e-01\n",
      " 9.99951839e-01 9.99952793e-01 9.99953628e-01 9.99954581e-01]\n"
     ]
    }
   ],
   "source": [
    "print(y_puzzlelib)"
   ]
  },
  {
   "cell_type": "markdown",
   "metadata": {
    "id": "Dpn_ACIFS0oL"
   },
   "source": [
    "**Плюсы**\n",
    "\n",
    "- бесконечно дифференцируемая гладкая функция\n",
    "\n",
    "**Минусы**\n",
    "\n",
    "- насыщение сигмоиды приводит к затуханию градиента: в процессе обратного распространения ошибки локальный градиент, который может быть очень малым, умножается на общий - и в таком случае обнуляет его. Из-за этого сигнал почти не проходит через нейрон к его весам и рекурсивно к его данным;\n",
    "\n",
    "- выход сигмоиды не центрирован относительно нуля: нейроны в последующих слоях будут получать значения, которые также не центрированы относительно нуля, что оказывает влияние на динамику градиентного спуска."
   ]
  },
  {
   "cell_type": "markdown",
   "metadata": {
    "id": "OjJoyeO2TIGy"
   },
   "source": [
    "### **Tanh (Гиперболический тангенс)**\n",
    "Принимает на вход произвольное вещественное число, а на выходе дает вещественное число в интервале от –1 до 1.\n",
    "\n",
    "Вычисляется по формуле:\n",
    "\n",
    "$t h(x)=\\frac{e^{x}-e^{-x}}{e^{x}+e^{-x}}$"
   ]
  },
  {
   "cell_type": "code",
   "execution_count": 24,
   "metadata": {
    "colab": {
     "base_uri": "https://localhost:8080/",
     "height": 320
    },
    "id": "enkL3VWyS-I9",
    "outputId": "65e06895-11a6-49f8-e77c-b59c3df2d8ca"
   },
   "outputs": [
    {
     "data": {
      "image/png": "[encoded data removed]",
      "text/plain": [
       "<Figure size 720x360 with 1 Axes>"
      ]
     },
     "metadata": {
      "needs_background": "light"
     },
     "output_type": "display_data"
    }
   ],
   "source": [
    "x = np.linspace(-10, 10, 1000)\n",
    "y = ( 2 / (1 + np.exp(-2*x) ) ) -1\n",
    "\n",
    "act = Activation(\"tanh\")\n",
    "y_puzzlelib = act(gpuarray.to_gpu(x.astype(np.float32)))\n",
    "\n",
    "plt.figure(figsize=(10, 5))\n",
    "plt.plot(x, y)\n",
    "plt.legend(['hyperbolic tangent'])\n",
    "plt.show()"
   ]
  },
  {
   "cell_type": "markdown",
   "metadata": {
    "id": "BqJiu_CgTMpv"
   },
   "source": [
    "**Плюсы**\n",
    "\n",
    "- бесконечно дифференцируемая гладкая функция\n",
    "центрирована относительно нуля\n",
    "\n",
    "**Минусы**\n",
    "- дорогая стоимость вычисления\n"
   ]
  },
  {
   "cell_type": "markdown",
   "metadata": {
    "id": "NrDejsMTTh69"
   },
   "source": [
    "### **ReLU**\n",
    "Реализует пороговый переход в нуле. Принимает значения на интервале [0, +∞). В данный момент ReLU является одной из самых популярных функций активации, а вокруг нее образовалось множество модификаций.\n",
    "\n",
    "Вычисляется по формуле:\n",
    "\n",
    "$f(x)=\\max (0, x)$"
   ]
  },
  {
   "cell_type": "code",
   "execution_count": 38,
   "metadata": {
    "colab": {
     "base_uri": "https://localhost:8080/",
     "height": 320
    },
    "id": "r0vOMqNiTfAz",
    "outputId": "e391441e-bbd0-45b1-d8aa-af5e276dc8d2"
   },
   "outputs": [
    {
     "data": {
      "image/png": "[encoded data removed]",
      "text/plain": [
       "<Figure size 720x360 with 1 Axes>"
      ]
     },
     "metadata": {
      "needs_background": "light"
     },
     "output_type": "display_data"
    }
   ],
   "source": [
    "x = np.linspace(-10, 10, 1000)\n",
    "y = np.maximum(0, x)\n",
    "\n",
    "act = Activation(\"relu\")\n",
    "y_puzzlelib = act(gpuarray.to_gpu(x.astype(np.float32)))\n",
    "\n",
    "plt.figure(figsize=(10, 5))\n",
    "plt.plot(x, y)\n",
    "plt.legend(['Relu'])\n",
    "plt.show()"
   ]
  },
  {
   "cell_type": "code",
   "execution_count": 39,
   "metadata": {},
   "outputs": [
    {
     "name": "stdout",
     "output_type": "stream",
     "text": [
      "[ 0.          0.          0.          0.          0.          0.\n",
      "  0.          0.          0.          0.          0.          0.\n",
      "  0.          0.          0.          0.          0.          0.\n",
      "  0.          0.          0.          0.          0.          0.\n",
      "  0.          0.          0.          0.          0.          0.\n",
      "  0.          0.          0.          0.          0.          0.\n",
      "  0.          0.          0.          0.          0.          0.\n",
      "  0.          0.          0.          0.          0.          0.\n",
      "  0.          0.          0.          0.          0.          0.\n",
      "  0.          0.          0.          0.          0.          0.\n",
      "  0.          0.          0.          0.          0.          0.\n",
      "  0.          0.          0.          0.          0.          0.\n",
      "  0.          0.          0.          0.          0.          0.\n",
      "  0.          0.          0.          0.          0.          0.\n",
      "  0.          0.          0.          0.          0.          0.\n",
      "  0.          0.          0.          0.          0.          0.\n",
      "  0.          0.          0.          0.          0.          0.\n",
      "  0.          0.          0.          0.          0.          0.\n",
      "  0.          0.          0.          0.          0.          0.\n",
      "  0.          0.          0.          0.          0.          0.\n",
      "  0.          0.          0.          0.          0.          0.\n",
      "  0.          0.          0.          0.          0.          0.\n",
      "  0.          0.          0.          0.          0.          0.\n",
      "  0.          0.          0.          0.          0.          0.\n",
      "  0.          0.          0.          0.          0.          0.\n",
      "  0.          0.          0.          0.          0.          0.\n",
      "  0.          0.          0.          0.          0.          0.\n",
      "  0.          0.          0.          0.          0.          0.\n",
      "  0.          0.          0.          0.          0.          0.\n",
      "  0.          0.          0.          0.          0.          0.\n",
      "  0.          0.          0.          0.          0.          0.\n",
      "  0.          0.          0.          0.          0.          0.\n",
      "  0.          0.          0.          0.          0.          0.\n",
      "  0.          0.          0.          0.          0.          0.\n",
      "  0.          0.          0.          0.          0.          0.\n",
      "  0.          0.          0.          0.          0.          0.\n",
      "  0.          0.          0.          0.          0.          0.\n",
      "  0.          0.          0.          0.          0.          0.\n",
      "  0.          0.          0.          0.          0.          0.\n",
      "  0.          0.          0.          0.          0.          0.\n",
      "  0.          0.          0.          0.          0.          0.\n",
      "  0.          0.          0.          0.          0.          0.\n",
      "  0.          0.          0.          0.          0.          0.\n",
      "  0.          0.          0.          0.          0.          0.\n",
      "  0.          0.          0.          0.          0.          0.\n",
      "  0.          0.          0.          0.          0.          0.\n",
      "  0.          0.          0.          0.          0.          0.\n",
      "  0.          0.          0.          0.          0.          0.\n",
      "  0.          0.          0.          0.          0.          0.\n",
      "  0.          0.          0.          0.          0.          0.\n",
      "  0.          0.          0.          0.          0.          0.\n",
      "  0.          0.          0.          0.          0.          0.\n",
      "  0.          0.          0.          0.          0.          0.\n",
      "  0.          0.          0.          0.          0.          0.\n",
      "  0.          0.          0.          0.          0.          0.\n",
      "  0.          0.          0.          0.          0.          0.\n",
      "  0.          0.          0.          0.          0.          0.\n",
      "  0.          0.          0.          0.          0.          0.\n",
      "  0.          0.          0.          0.          0.          0.\n",
      "  0.          0.          0.          0.          0.          0.\n",
      "  0.          0.          0.          0.          0.          0.\n",
      "  0.          0.          0.          0.          0.          0.\n",
      "  0.          0.          0.          0.          0.          0.\n",
      "  0.          0.          0.          0.          0.          0.\n",
      "  0.          0.          0.          0.          0.          0.\n",
      "  0.          0.          0.          0.          0.          0.\n",
      "  0.          0.          0.          0.          0.          0.\n",
      "  0.          0.          0.          0.          0.          0.\n",
      "  0.          0.          0.          0.          0.          0.\n",
      "  0.          0.          0.          0.          0.          0.\n",
      "  0.          0.          0.          0.          0.          0.\n",
      "  0.          0.          0.          0.          0.          0.\n",
      "  0.          0.          0.          0.          0.          0.\n",
      "  0.          0.          0.          0.          0.          0.\n",
      "  0.          0.          0.          0.          0.          0.\n",
      "  0.          0.          0.          0.          0.          0.\n",
      "  0.          0.          0.          0.          0.          0.\n",
      "  0.          0.          0.          0.          0.          0.\n",
      "  0.          0.          0.          0.          0.          0.\n",
      "  0.          0.          0.          0.          0.          0.\n",
      "  0.          0.          0.          0.          0.          0.\n",
      "  0.          0.          0.          0.          0.          0.\n",
      "  0.          0.          0.          0.          0.          0.\n",
      "  0.          0.          0.01001001  0.03003003  0.05005005  0.07007007\n",
      "  0.09009009  0.11011011  0.13013013  0.15015015  0.17017017  0.1901902\n",
      "  0.2102102   0.23023023  0.25025025  0.27027026  0.2902903   0.3103103\n",
      "  0.33033034  0.35035035  0.37037036  0.3903904   0.4104104   0.43043044\n",
      "  0.45045045  0.47047046  0.4904905   0.5105105   0.5305305   0.5505506\n",
      "  0.5705706   0.5905906   0.6106106   0.6306306   0.6506507   0.6706707\n",
      "  0.6906907   0.7107107   0.7307307   0.7507508   0.7707708   0.7907908\n",
      "  0.8108108   0.8308308   0.8508509   0.8708709   0.8908909   0.9109109\n",
      "  0.9309309   0.950951    0.970971    0.990991    1.011011    1.031031\n",
      "  1.051051    1.071071    1.091091    1.1111112   1.1311312   1.1511512\n",
      "  1.1711712   1.1911912   1.2112112   1.2312312   1.2512512   1.2712712\n",
      "  1.2912912   1.3113114   1.3313314   1.3513514   1.3713714   1.3913914\n",
      "  1.4114114   1.4314314   1.4514514   1.4714714   1.4914914   1.5115116\n",
      "  1.5315316   1.5515516   1.5715716   1.5915916   1.6116116   1.6316316\n",
      "  1.6516516   1.6716716   1.6916916   1.7117118   1.7317318   1.7517518\n",
      "  1.7717718   1.7917918   1.8118118   1.8318318   1.8518518   1.8718718\n",
      "  1.8918918   1.911912    1.931932    1.951952    1.971972    1.991992\n",
      "  2.012012    2.032032    2.052052    2.072072    2.092092    2.112112\n",
      "  2.132132    2.152152    2.172172    2.192192    2.2122123   2.2322323\n",
      "  2.2522523   2.2722723   2.2922924   2.3123124   2.3323324   2.3523524\n",
      "  2.3723724   2.3923924   2.4124124   2.4324324   2.4524524   2.4724724\n",
      "  2.4924924   2.5125124   2.5325325   2.5525525   2.5725725   2.5925925\n",
      "  2.6126127   2.6326327   2.6526527   2.6726727   2.6926928   2.7127128\n",
      "  2.7327328   2.7527528   2.7727728   2.7927928   2.8128128   2.8328328\n",
      "  2.8528528   2.8728728   2.8928928   2.9129128   2.9329329   2.9529529\n",
      "  2.9729729   2.9929929   3.0130131   3.0330331   3.0530531   3.0730731\n",
      "  3.0930932   3.1131132   3.1331332   3.1531532   3.1731732   3.1931932\n",
      "  3.2132132   3.2332332   3.2532532   3.2732732   3.2932932   3.3133132\n",
      "  3.3333333   3.3533533   3.3733733   3.3933933   3.4134135   3.4334335\n",
      "  3.4534535   3.4734735   3.4934936   3.5135136   3.5335336   3.5535536\n",
      "  3.5735736   3.5935936   3.6136136   3.6336336   3.6536536   3.6736736\n",
      "  3.6936936   3.7137136   3.7337337   3.7537537   3.7737737   3.7937937\n",
      "  3.813814    3.833834    3.853854    3.873874    3.893894    3.913914\n",
      "  3.933934    3.953954    3.973974    3.993994    4.0140142   4.0340343\n",
      "  4.0540543   4.0740743   4.0940943   4.1141143   4.1341343   4.1541543\n",
      "  4.1741743   4.1941943   4.2142143   4.2342343   4.2542543   4.2742743\n",
      "  4.2942944   4.3143144   4.3343344   4.3543544   4.3743744   4.3943944\n",
      "  4.4144144   4.4344344   4.4544544   4.4744744   4.4944944   4.5145144\n",
      "  4.5345345   4.5545545   4.5745745   4.5945945   4.6146145   4.6346345\n",
      "  4.6546545   4.6746745   4.6946945   4.7147145   4.7347345   4.7547545\n",
      "  4.7747746   4.7947946   4.814815    4.834835    4.854855    4.874875\n",
      "  4.894895    4.914915    4.934935    4.954955    4.974975    4.994995\n",
      "  5.015015    5.035035    5.055055    5.075075    5.095095    5.115115\n",
      "  5.135135    5.155155    5.175175    5.195195    5.215215    5.235235\n",
      "  5.255255    5.275275    5.2952952   5.3153152   5.3353353   5.3553553\n",
      "  5.3753753   5.3953953   5.4154153   5.4354353   5.4554553   5.4754753\n",
      "  5.4954953   5.5155153   5.5355353   5.5555553   5.5755754   5.5955954\n",
      "  5.615616    5.635636    5.655656    5.675676    5.695696    5.715716\n",
      "  5.735736    5.755756    5.775776    5.795796    5.815816    5.835836\n",
      "  5.855856    5.875876    5.895896    5.915916    5.935936    5.955956\n",
      "  5.975976    5.995996    6.016016    6.036036    6.056056    6.076076\n",
      "  6.096096    6.116116    6.136136    6.156156    6.176176    6.196196\n",
      "  6.216216    6.236236    6.256256    6.276276    6.296296    6.316316\n",
      "  6.336336    6.356356    6.376376    6.396396    6.4164166   6.4364367\n",
      "  6.4564567   6.4764767   6.4964967   6.5165167   6.5365367   6.5565567\n",
      "  6.5765767   6.5965967   6.6166167   6.6366367   6.6566567   6.6766768\n",
      "  6.6966968   6.716717    6.736737    6.756757    6.776777    6.796797\n",
      "  6.816817    6.836837    6.856857    6.876877    6.896897    6.916917\n",
      "  6.936937    6.956957    6.976977    6.996997    7.017017    7.037037\n",
      "  7.057057    7.077077    7.097097    7.117117    7.137137    7.157157\n",
      "  7.177177    7.197197    7.2172174   7.2372375   7.2572575   7.2772775\n",
      "  7.2972975   7.3173175   7.3373375   7.3573575   7.3773775   7.3973975\n",
      "  7.4174175   7.4374375   7.4574575   7.4774776   7.4974976   7.5175176\n",
      "  7.5375376   7.5575576   7.5775776   7.5975976   7.6176176   7.6376376\n",
      "  7.6576576   7.6776776   7.6976976   7.7177176   7.7377377   7.7577577\n",
      "  7.7777777   7.7977977   7.8178177   7.8378377   7.8578577   7.8778777\n",
      "  7.8978977   7.9179177   7.9379377   7.9579577   7.9779778   7.9979978\n",
      "  8.018018    8.038038    8.058058    8.078078    8.098098    8.118118\n",
      "  8.138138    8.158158    8.178178    8.198198    8.218218    8.238238\n",
      "  8.258258    8.278278    8.298298    8.318318    8.338338    8.358358\n",
      "  8.378378    8.398398    8.418419    8.438438    8.458459    8.478478\n",
      "  8.498499    8.518518    8.538539    8.558558    8.578579    8.5985985\n",
      "  8.618619    8.6386385   8.658659    8.6786785   8.698699    8.718719\n",
      "  8.738739    8.758759    8.778779    8.798799    8.818819    8.838839\n",
      "  8.858859    8.878879    8.898899    8.918919    8.938939    8.958959\n",
      "  8.978979    8.998999    9.019019    9.039039    9.059059    9.079079\n",
      "  9.099099    9.119119    9.139139    9.159159    9.179179    9.199199\n",
      "  9.219219    9.23924     9.259259    9.27928     9.299299    9.31932\n",
      "  9.339339    9.35936     9.379379    9.3994      9.419419    9.43944\n",
      "  9.459459    9.47948     9.499499    9.51952     9.539539    9.55956\n",
      "  9.579579    9.5996      9.619619    9.63964     9.659659    9.67968\n",
      "  9.699699    9.71972     9.739739    9.75976     9.779779    9.7998\n",
      "  9.819819    9.83984     9.859859    9.87988     9.8998995   9.91992\n",
      "  9.9399395   9.95996     9.9799795  10.        ]\n"
     ]
    }
   ],
   "source": [
    "print(y_puzzlelib)"
   ]
  },
  {
   "cell_type": "markdown",
   "metadata": {
    "id": "CeB7Ao4mTk_C"
   },
   "source": [
    "**Плюсы**\n",
    "\n",
    "- вычислительная простота\n",
    "\n",
    "- быстрота сходимости стохастического градиента\n",
    "\n",
    "**Минусы**\n",
    "\n",
    "- затухающий градиент (устраняется выбором соответствующей скорости обучения)\n",
    "\n",
    "- не гладкая функция"
   ]
  },
  {
   "cell_type": "markdown",
   "metadata": {
    "id": "XRBY2NwSTmT4"
   },
   "source": [
    "### **LeakyReLU**\n",
    "Модификация ReLU с добавлением малой константы α, при этом получаем, что при отрицательных значениях аргумента значение функции находится достаточно близко к нулю, но не равно ему. Принимает значения на интервале (-∞, +∞).\n",
    "\n",
    "Вычисляется по формуле:\n",
    "\n",
    "$f(x)=\\left\\{\\begin{aligned} \\alpha x, & \\text { если } x<0 \\\\ x, & \\text { если } x \\geq 0 \\end{aligned}\\right.$"
   ]
  },
  {
   "cell_type": "code",
   "execution_count": 40,
   "metadata": {
    "colab": {
     "base_uri": "https://localhost:8080/",
     "height": 499
    },
    "id": "7s0pyKf5Tp9v",
    "outputId": "3081dd7b-d5c2-4b81-c035-a935ee3ef2c2"
   },
   "outputs": [
    {
     "data": {
      "image/png": "[encoded data removed]",
      "text/plain": [
       "<Figure size 864x576 with 1 Axes>"
      ]
     },
     "metadata": {
      "needs_background": "light"
     },
     "output_type": "display_data"
    }
   ],
   "source": [
    "def leaky_relu(x):\n",
    "    return max(0.01*x, x)\n",
    "\n",
    "act = Activation(\"leakyRelu\")\n",
    "y_puzzlelib = act(gpuarray.to_gpu(x.astype(np.float32)))\n",
    "\n",
    "plt.figure(figsize=(12,8))\n",
    "plt.plot(x, list(map(leaky_relu, x)), label=\"leaky-relu\")\n",
    "plt.title(\"Leaky-ReLU\")\n",
    "plt.legend()\n",
    "plt.show()"
   ]
  },
  {
   "cell_type": "code",
   "execution_count": 45,
   "metadata": {},
   "outputs": [
    {
     "name": "stdout",
     "output_type": "stream",
     "text": [
      "[-9.99999940e-02 -9.97997895e-02 -9.95995998e-02 -9.93993953e-02\n",
      " -9.91991982e-02 -9.89989936e-02 -9.87987965e-02 -9.85985920e-02\n",
      " -9.83983949e-02 -9.81981903e-02 -9.79980007e-02 -9.77977887e-02\n",
      " -9.75975990e-02 -9.73973945e-02 -9.71971974e-02 -9.69969928e-02\n",
      " -9.67967957e-02 -9.65965912e-02 -9.63963941e-02 -9.61961895e-02\n",
      " -9.59959999e-02 -9.57957879e-02 -9.55955982e-02 -9.53953937e-02\n",
      " -9.51951966e-02 -9.49949920e-02 -9.47947949e-02 -9.45945904e-02\n",
      " -9.43943933e-02 -9.41941887e-02 -9.39939991e-02 -9.37937871e-02\n",
      " -9.35935974e-02 -9.33933929e-02 -9.31931958e-02 -9.29929912e-02\n",
      " -9.27927941e-02 -9.25925896e-02 -9.23923925e-02 -9.21921879e-02\n",
      " -9.19919834e-02 -9.17917863e-02 -9.15915817e-02 -9.13913921e-02\n",
      " -9.11911875e-02 -9.09909904e-02 -9.07907858e-02 -9.05905887e-02\n",
      " -9.03903842e-02 -9.01901871e-02 -8.99899825e-02 -8.97897854e-02\n",
      " -8.95895809e-02 -8.93893912e-02 -8.91891867e-02 -8.89889896e-02\n",
      " -8.87887850e-02 -8.85885879e-02 -8.83883834e-02 -8.81881863e-02\n",
      " -8.79879817e-02 -8.77877846e-02 -8.75875801e-02 -8.73873904e-02\n",
      " -8.71871859e-02 -8.69869888e-02 -8.67867842e-02 -8.65865871e-02\n",
      " -8.63863826e-02 -8.61861855e-02 -8.59859809e-02 -8.57857913e-02\n",
      " -8.55855793e-02 -8.53853896e-02 -8.51851851e-02 -8.49849880e-02\n",
      " -8.47847834e-02 -8.45845863e-02 -8.43843818e-02 -8.41841847e-02\n",
      " -8.39839801e-02 -8.37837756e-02 -8.35835785e-02 -8.33833739e-02\n",
      " -8.31831843e-02 -8.29829797e-02 -8.27827826e-02 -8.25825781e-02\n",
      " -8.23823810e-02 -8.21821764e-02 -8.19819793e-02 -8.17817748e-02\n",
      " -8.15815777e-02 -8.13813731e-02 -8.11811835e-02 -8.09809789e-02\n",
      " -8.07807818e-02 -8.05805773e-02 -8.03803802e-02 -8.01801756e-02\n",
      " -7.99799785e-02 -7.97797740e-02 -7.95795768e-02 -7.93793723e-02\n",
      " -7.91791752e-02 -7.89789781e-02 -7.87787735e-02 -7.85785764e-02\n",
      " -7.83783719e-02 -7.81781748e-02 -7.79779777e-02 -7.77777731e-02\n",
      " -7.75775760e-02 -7.73773715e-02 -7.71771744e-02 -7.69769773e-02\n",
      " -7.67767727e-02 -7.65765756e-02 -7.63763711e-02 -7.61761740e-02\n",
      " -7.59759769e-02 -7.57757723e-02 -7.55755752e-02 -7.53753707e-02\n",
      " -7.51751736e-02 -7.49749765e-02 -7.47747719e-02 -7.45745748e-02\n",
      " -7.43743703e-02 -7.41741732e-02 -7.39739761e-02 -7.37737715e-02\n",
      " -7.35735744e-02 -7.33733699e-02 -7.31731728e-02 -7.29729757e-02\n",
      " -7.27727711e-02 -7.25725740e-02 -7.23723695e-02 -7.21721724e-02\n",
      " -7.19719678e-02 -7.17717707e-02 -7.15715662e-02 -7.13713691e-02\n",
      " -7.11711645e-02 -7.09709674e-02 -7.07707703e-02 -7.05705658e-02\n",
      " -7.03703687e-02 -7.01701641e-02 -6.99699670e-02 -6.97697699e-02\n",
      " -6.95695654e-02 -6.93693683e-02 -6.91691637e-02 -6.89689666e-02\n",
      " -6.87687695e-02 -6.85685650e-02 -6.83683679e-02 -6.81681633e-02\n",
      " -6.79679662e-02 -6.77677691e-02 -6.75675645e-02 -6.73673674e-02\n",
      " -6.71671629e-02 -6.69669658e-02 -6.67667687e-02 -6.65665641e-02\n",
      " -6.63663670e-02 -6.61661625e-02 -6.59659654e-02 -6.57657683e-02\n",
      " -6.55655637e-02 -6.53653666e-02 -6.51651621e-02 -6.49649650e-02\n",
      " -6.47647679e-02 -6.45645633e-02 -6.43643662e-02 -6.41641617e-02\n",
      " -6.39639571e-02 -6.37637600e-02 -6.35635629e-02 -6.33633584e-02\n",
      " -6.31631613e-02 -6.29629567e-02 -6.27627596e-02 -6.25625625e-02\n",
      " -6.23623580e-02 -6.21621609e-02 -6.19619600e-02 -6.17617592e-02\n",
      " -6.15615584e-02 -6.13613576e-02 -6.11611605e-02 -6.09609596e-02\n",
      " -6.07607588e-02 -6.05605580e-02 -6.03603572e-02 -6.01601601e-02\n",
      " -5.99599592e-02 -5.97597584e-02 -5.95595576e-02 -5.93593568e-02\n",
      " -5.91591597e-02 -5.89589588e-02 -5.87587580e-02 -5.85585572e-02\n",
      " -5.83583564e-02 -5.81581593e-02 -5.79579584e-02 -5.77577576e-02\n",
      " -5.75575568e-02 -5.73573560e-02 -5.71571589e-02 -5.69569580e-02\n",
      " -5.67567572e-02 -5.65565564e-02 -5.63563555e-02 -5.61561584e-02\n",
      " -5.59559539e-02 -5.57557531e-02 -5.55555522e-02 -5.53553514e-02\n",
      " -5.51551506e-02 -5.49549535e-02 -5.47547527e-02 -5.45545518e-02\n",
      " -5.43543510e-02 -5.41541502e-02 -5.39539531e-02 -5.37537523e-02\n",
      " -5.35535514e-02 -5.33533506e-02 -5.31531498e-02 -5.29529527e-02\n",
      " -5.27527519e-02 -5.25525510e-02 -5.23523502e-02 -5.21521494e-02\n",
      " -5.19519523e-02 -5.17517515e-02 -5.15515506e-02 -5.13513498e-02\n",
      " -5.11511490e-02 -5.09509519e-02 -5.07507510e-02 -5.05505502e-02\n",
      " -5.03503494e-02 -5.01501486e-02 -4.99499515e-02 -4.97497506e-02\n",
      " -4.95495498e-02 -4.93493490e-02 -4.91491482e-02 -4.89489511e-02\n",
      " -4.87487502e-02 -4.85485494e-02 -4.83483486e-02 -4.81481478e-02\n",
      " -4.79479432e-02 -4.77477461e-02 -4.75475453e-02 -4.73473445e-02\n",
      " -4.71471436e-02 -4.69469428e-02 -4.67467457e-02 -4.65465449e-02\n",
      " -4.63463441e-02 -4.61461432e-02 -4.59459424e-02 -4.57457453e-02\n",
      " -4.55455445e-02 -4.53453436e-02 -4.51451428e-02 -4.49449420e-02\n",
      " -4.47447449e-02 -4.45445441e-02 -4.43443432e-02 -4.41441424e-02\n",
      " -4.39439416e-02 -4.37437445e-02 -4.35435437e-02 -4.33433428e-02\n",
      " -4.31431420e-02 -4.29429412e-02 -4.27427441e-02 -4.25425433e-02\n",
      " -4.23423424e-02 -4.21421416e-02 -4.19419408e-02 -4.17417437e-02\n",
      " -4.15415429e-02 -4.13413420e-02 -4.11411412e-02 -4.09409404e-02\n",
      " -4.07407433e-02 -4.05405425e-02 -4.03403416e-02 -4.01401408e-02\n",
      " -3.99399400e-02 -3.97397391e-02 -3.95395383e-02 -3.93393375e-02\n",
      " -3.91391404e-02 -3.89389396e-02 -3.87387387e-02 -3.85385379e-02\n",
      " -3.83383371e-02 -3.81381400e-02 -3.79379354e-02 -3.77377346e-02\n",
      " -3.75375375e-02 -3.73373367e-02 -3.71371359e-02 -3.69369350e-02\n",
      " -3.67367342e-02 -3.65365371e-02 -3.63363363e-02 -3.61361355e-02\n",
      " -3.59359346e-02 -3.57357338e-02 -3.55355367e-02 -3.53353359e-02\n",
      " -3.51351351e-02 -3.49349342e-02 -3.47347334e-02 -3.45345363e-02\n",
      " -3.43343355e-02 -3.41341347e-02 -3.39339338e-02 -3.37337330e-02\n",
      " -3.35335322e-02 -3.33333313e-02 -3.31331305e-02 -3.29329334e-02\n",
      " -3.27327326e-02 -3.25325318e-02 -3.23323309e-02 -3.21321301e-02\n",
      " -3.19319330e-02 -3.17317322e-02 -3.15315314e-02 -3.13313305e-02\n",
      " -3.11311316e-02 -3.09309307e-02 -3.07307299e-02 -3.05305310e-02\n",
      " -3.03303301e-02 -3.01301312e-02 -2.99299285e-02 -2.97297277e-02\n",
      " -2.95295287e-02 -2.93293279e-02 -2.91291270e-02 -2.89289281e-02\n",
      " -2.87287273e-02 -2.85285283e-02 -2.83283275e-02 -2.81281266e-02\n",
      " -2.79279277e-02 -2.77277268e-02 -2.75275279e-02 -2.73273271e-02\n",
      " -2.71271262e-02 -2.69269273e-02 -2.67267264e-02 -2.65265275e-02\n",
      " -2.63263267e-02 -2.61261258e-02 -2.59259250e-02 -2.57257242e-02\n",
      " -2.55255233e-02 -2.53253244e-02 -2.51251236e-02 -2.49249246e-02\n",
      " -2.47247238e-02 -2.45245229e-02 -2.43243240e-02 -2.41241232e-02\n",
      " -2.39239242e-02 -2.37237234e-02 -2.35235225e-02 -2.33233236e-02\n",
      " -2.31231228e-02 -2.29229238e-02 -2.27227230e-02 -2.25225221e-02\n",
      " -2.23223232e-02 -2.21221223e-02 -2.19219197e-02 -2.17217207e-02\n",
      " -2.15215199e-02 -2.13213209e-02 -2.11211201e-02 -2.09209193e-02\n",
      " -2.07207203e-02 -2.05205195e-02 -2.03203205e-02 -2.01201197e-02\n",
      " -1.99199189e-02 -1.97197199e-02 -1.95195191e-02 -1.93193201e-02\n",
      " -1.91191193e-02 -1.89189184e-02 -1.87187176e-02 -1.85185187e-02\n",
      " -1.83183178e-02 -1.81181170e-02 -1.79179180e-02 -1.77177172e-02\n",
      " -1.75175183e-02 -1.73173174e-02 -1.71171166e-02 -1.69169158e-02\n",
      " -1.67167168e-02 -1.65165160e-02 -1.63163152e-02 -1.61161162e-02\n",
      " -1.59159154e-02 -1.57157164e-02 -1.55155156e-02 -1.53153157e-02\n",
      " -1.51151149e-02 -1.49149140e-02 -1.47147141e-02 -1.45145142e-02\n",
      " -1.43143134e-02 -1.41141135e-02 -1.39139136e-02 -1.37137137e-02\n",
      " -1.35135138e-02 -1.33133130e-02 -1.31131131e-02 -1.29129123e-02\n",
      " -1.27127124e-02 -1.25125116e-02 -1.23123117e-02 -1.21121118e-02\n",
      " -1.19119119e-02 -1.17117120e-02 -1.15115112e-02 -1.13113113e-02\n",
      " -1.11111114e-02 -1.09109106e-02 -1.07107097e-02 -1.05105098e-02\n",
      " -1.03103099e-02 -1.01101100e-02 -9.90991015e-03 -9.70970932e-03\n",
      " -9.50950943e-03 -9.30930860e-03 -9.10910871e-03 -8.90890881e-03\n",
      " -8.70870892e-03 -8.50850902e-03 -8.30830820e-03 -8.10810830e-03\n",
      " -7.90790748e-03 -7.70770758e-03 -7.50750769e-03 -7.30730686e-03\n",
      " -7.10710697e-03 -6.90690661e-03 -6.70670671e-03 -6.50650682e-03\n",
      " -6.30630599e-03 -6.10610610e-03 -5.90590574e-03 -5.70570584e-03\n",
      " -5.50550548e-03 -5.30530512e-03 -5.10510476e-03 -4.90490487e-03\n",
      " -4.70470451e-03 -4.50450461e-03 -4.30430425e-03 -4.10410389e-03\n",
      " -3.90390377e-03 -3.70370341e-03 -3.50350351e-03 -3.30330338e-03\n",
      " -3.10310302e-03 -2.90290290e-03 -2.70270254e-03 -2.50250241e-03\n",
      " -2.30230228e-03 -2.10210192e-03 -1.90190191e-03 -1.70170167e-03\n",
      " -1.50150142e-03 -1.30130129e-03 -1.10110105e-03 -9.00900865e-04\n",
      " -7.00700737e-04 -5.00500493e-04 -3.00300308e-04 -1.00100093e-04\n",
      "  1.00100096e-02  3.00300308e-02  5.00500500e-02  7.00700730e-02\n",
      "  9.00900885e-02  1.10110112e-01  1.30130127e-01  1.50150150e-01\n",
      "  1.70170173e-01  1.90190196e-01  2.10210204e-01  2.30230227e-01\n",
      "  2.50250250e-01  2.70270258e-01  2.90290296e-01  3.10310304e-01\n",
      "  3.30330342e-01  3.50350350e-01  3.70370358e-01  3.90390396e-01\n",
      "  4.10410404e-01  4.30430442e-01  4.50450450e-01  4.70470458e-01\n",
      "  4.90490496e-01  5.10510504e-01  5.30530512e-01  5.50550580e-01\n",
      "  5.70570588e-01  5.90590596e-01  6.10610604e-01  6.30630612e-01\n",
      "  6.50650680e-01  6.70670688e-01  6.90690696e-01  7.10710704e-01\n",
      "  7.30730712e-01  7.50750780e-01  7.70770788e-01  7.90790796e-01\n",
      "  8.10810804e-01  8.30830812e-01  8.50850880e-01  8.70870888e-01\n",
      "  8.90890896e-01  9.10910904e-01  9.30930912e-01  9.50950980e-01\n",
      "  9.70970988e-01  9.90990996e-01  1.01101100e+00  1.03103101e+00\n",
      "  1.05105102e+00  1.07107103e+00  1.09109104e+00  1.11111116e+00\n",
      "  1.13113117e+00  1.15115118e+00  1.17117119e+00  1.19119120e+00\n",
      "  1.21121120e+00  1.23123121e+00  1.25125122e+00  1.27127123e+00\n",
      "  1.29129124e+00  1.31131136e+00  1.33133137e+00  1.35135138e+00\n",
      "  1.37137139e+00  1.39139140e+00  1.41141140e+00  1.43143141e+00\n",
      "  1.45145142e+00  1.47147143e+00  1.49149144e+00  1.51151156e+00\n",
      "  1.53153157e+00  1.55155158e+00  1.57157159e+00  1.59159160e+00\n",
      "  1.61161160e+00  1.63163161e+00  1.65165162e+00  1.67167163e+00\n",
      "  1.69169164e+00  1.71171176e+00  1.73173177e+00  1.75175178e+00\n",
      "  1.77177179e+00  1.79179180e+00  1.81181180e+00  1.83183181e+00\n",
      "  1.85185182e+00  1.87187183e+00  1.89189184e+00  1.91191196e+00\n",
      "  1.93193197e+00  1.95195198e+00  1.97197199e+00  1.99199200e+00\n",
      "  2.01201200e+00  2.03203201e+00  2.05205202e+00  2.07207203e+00\n",
      "  2.09209204e+00  2.11211205e+00  2.13213205e+00  2.15215206e+00\n",
      "  2.17217207e+00  2.19219208e+00  2.21221232e+00  2.23223233e+00\n",
      "  2.25225234e+00  2.27227235e+00  2.29229236e+00  2.31231236e+00\n",
      "  2.33233237e+00  2.35235238e+00  2.37237239e+00  2.39239240e+00\n",
      "  2.41241241e+00  2.43243241e+00  2.45245242e+00  2.47247243e+00\n",
      "  2.49249244e+00  2.51251245e+00  2.53253245e+00  2.55255246e+00\n",
      "  2.57257247e+00  2.59259248e+00  2.61261272e+00  2.63263273e+00\n",
      "  2.65265274e+00  2.67267275e+00  2.69269276e+00  2.71271276e+00\n",
      "  2.73273277e+00  2.75275278e+00  2.77277279e+00  2.79279280e+00\n",
      "  2.81281281e+00  2.83283281e+00  2.85285282e+00  2.87287283e+00\n",
      "  2.89289284e+00  2.91291285e+00  2.93293285e+00  2.95295286e+00\n",
      "  2.97297287e+00  2.99299288e+00  3.01301312e+00  3.03303313e+00\n",
      "  3.05305314e+00  3.07307315e+00  3.09309316e+00  3.11311316e+00\n",
      "  3.13313317e+00  3.15315318e+00  3.17317319e+00  3.19319320e+00\n",
      "  3.21321321e+00  3.23323321e+00  3.25325322e+00  3.27327323e+00\n",
      "  3.29329324e+00  3.31331325e+00  3.33333325e+00  3.35335326e+00\n",
      "  3.37337327e+00  3.39339328e+00  3.41341352e+00  3.43343353e+00\n",
      "  3.45345354e+00  3.47347355e+00  3.49349356e+00  3.51351357e+00\n",
      "  3.53353357e+00  3.55355358e+00  3.57357359e+00  3.59359360e+00\n",
      "  3.61361361e+00  3.63363361e+00  3.65365362e+00  3.67367363e+00\n",
      "  3.69369364e+00  3.71371365e+00  3.73373365e+00  3.75375366e+00\n",
      "  3.77377367e+00  3.79379368e+00  3.81381392e+00  3.83383393e+00\n",
      "  3.85385394e+00  3.87387395e+00  3.89389396e+00  3.91391397e+00\n",
      "  3.93393397e+00  3.95395398e+00  3.97397399e+00  3.99399400e+00\n",
      "  4.01401424e+00  4.03403425e+00  4.05405426e+00  4.07407427e+00\n",
      "  4.09409428e+00  4.11411428e+00  4.13413429e+00  4.15415430e+00\n",
      "  4.17417431e+00  4.19419432e+00  4.21421432e+00  4.23423433e+00\n",
      "  4.25425434e+00  4.27427435e+00  4.29429436e+00  4.31431437e+00\n",
      "  4.33433437e+00  4.35435438e+00  4.37437439e+00  4.39439440e+00\n",
      "  4.41441441e+00  4.43443441e+00  4.45445442e+00  4.47447443e+00\n",
      "  4.49449444e+00  4.51451445e+00  4.53453445e+00  4.55455446e+00\n",
      "  4.57457447e+00  4.59459448e+00  4.61461449e+00  4.63463449e+00\n",
      "  4.65465450e+00  4.67467451e+00  4.69469452e+00  4.71471453e+00\n",
      "  4.73473454e+00  4.75475454e+00  4.77477455e+00  4.79479456e+00\n",
      "  4.81481504e+00  4.83483505e+00  4.85485506e+00  4.87487507e+00\n",
      "  4.89489508e+00  4.91491508e+00  4.93493509e+00  4.95495510e+00\n",
      "  4.97497511e+00  4.99499512e+00  5.01501513e+00  5.03503513e+00\n",
      "  5.05505514e+00  5.07507515e+00  5.09509516e+00  5.11511517e+00\n",
      "  5.13513517e+00  5.15515518e+00  5.17517519e+00  5.19519520e+00\n",
      "  5.21521521e+00  5.23523521e+00  5.25525522e+00  5.27527523e+00\n",
      "  5.29529524e+00  5.31531525e+00  5.33533525e+00  5.35535526e+00\n",
      "  5.37537527e+00  5.39539528e+00  5.41541529e+00  5.43543530e+00\n",
      "  5.45545530e+00  5.47547531e+00  5.49549532e+00  5.51551533e+00\n",
      "  5.53553534e+00  5.55555534e+00  5.57557535e+00  5.59559536e+00\n",
      "  5.61561584e+00  5.63563585e+00  5.65565586e+00  5.67567587e+00\n",
      "  5.69569588e+00  5.71571589e+00  5.73573589e+00  5.75575590e+00\n",
      "  5.77577591e+00  5.79579592e+00  5.81581593e+00  5.83583593e+00\n",
      "  5.85585594e+00  5.87587595e+00  5.89589596e+00  5.91591597e+00\n",
      "  5.93593597e+00  5.95595598e+00  5.97597599e+00  5.99599600e+00\n",
      "  6.01601601e+00  6.03603601e+00  6.05605602e+00  6.07607603e+00\n",
      "  6.09609604e+00  6.11611605e+00  6.13613605e+00  6.15615606e+00\n",
      "  6.17617607e+00  6.19619608e+00  6.21621609e+00  6.23623610e+00\n",
      "  6.25625610e+00  6.27627611e+00  6.29629612e+00  6.31631613e+00\n",
      "  6.33633614e+00  6.35635614e+00  6.37637615e+00  6.39639616e+00\n",
      "  6.41641665e+00  6.43643665e+00  6.45645666e+00  6.47647667e+00\n",
      "  6.49649668e+00  6.51651669e+00  6.53653669e+00  6.55655670e+00\n",
      "  6.57657671e+00  6.59659672e+00  6.61661673e+00  6.63663673e+00\n",
      "  6.65665674e+00  6.67667675e+00  6.69669676e+00  6.71671677e+00\n",
      "  6.73673677e+00  6.75675678e+00  6.77677679e+00  6.79679680e+00\n",
      "  6.81681681e+00  6.83683681e+00  6.85685682e+00  6.87687683e+00\n",
      "  6.89689684e+00  6.91691685e+00  6.93693686e+00  6.95695686e+00\n",
      "  6.97697687e+00  6.99699688e+00  7.01701689e+00  7.03703690e+00\n",
      "  7.05705690e+00  7.07707691e+00  7.09709692e+00  7.11711693e+00\n",
      "  7.13713694e+00  7.15715694e+00  7.17717695e+00  7.19719696e+00\n",
      "  7.21721745e+00  7.23723745e+00  7.25725746e+00  7.27727747e+00\n",
      "  7.29729748e+00  7.31731749e+00  7.33733749e+00  7.35735750e+00\n",
      "  7.37737751e+00  7.39739752e+00  7.41741753e+00  7.43743753e+00\n",
      "  7.45745754e+00  7.47747755e+00  7.49749756e+00  7.51751757e+00\n",
      "  7.53753757e+00  7.55755758e+00  7.57757759e+00  7.59759760e+00\n",
      "  7.61761761e+00  7.63763762e+00  7.65765762e+00  7.67767763e+00\n",
      "  7.69769764e+00  7.71771765e+00  7.73773766e+00  7.75775766e+00\n",
      "  7.77777767e+00  7.79779768e+00  7.81781769e+00  7.83783770e+00\n",
      "  7.85785770e+00  7.87787771e+00  7.89789772e+00  7.91791773e+00\n",
      "  7.93793774e+00  7.95795774e+00  7.97797775e+00  7.99799776e+00\n",
      "  8.01801777e+00  8.03803825e+00  8.05805779e+00  8.07807827e+00\n",
      "  8.09809780e+00  8.11811829e+00  8.13813782e+00  8.15815830e+00\n",
      "  8.17817783e+00  8.19819832e+00  8.21821785e+00  8.23823833e+00\n",
      "  8.25825787e+00  8.27827835e+00  8.29829788e+00  8.31831837e+00\n",
      "  8.33833790e+00  8.35835838e+00  8.37837791e+00  8.39839840e+00\n",
      "  8.41841888e+00  8.43843842e+00  8.45845890e+00  8.47847843e+00\n",
      "  8.49849892e+00  8.51851845e+00  8.53853893e+00  8.55855846e+00\n",
      "  8.57857895e+00  8.59859848e+00  8.61861897e+00  8.63863850e+00\n",
      "  8.65865898e+00  8.67867851e+00  8.69869900e+00  8.71871853e+00\n",
      "  8.73873901e+00  8.75875854e+00  8.77877903e+00  8.79879856e+00\n",
      "  8.81881905e+00  8.83883858e+00  8.85885906e+00  8.87887859e+00\n",
      "  8.89889908e+00  8.91891861e+00  8.93893909e+00  8.95895863e+00\n",
      "  8.97897911e+00  8.99899864e+00  9.01901913e+00  9.03903866e+00\n",
      "  9.05905914e+00  9.07907867e+00  9.09909916e+00  9.11911869e+00\n",
      "  9.13913918e+00  9.15915871e+00  9.17917919e+00  9.19919872e+00\n",
      "  9.21921921e+00  9.23923969e+00  9.25925922e+00  9.27927971e+00\n",
      "  9.29929924e+00  9.31931973e+00  9.33933926e+00  9.35935974e+00\n",
      "  9.37937927e+00  9.39939976e+00  9.41941929e+00  9.43943977e+00\n",
      "  9.45945930e+00  9.47947979e+00  9.49949932e+00  9.51951981e+00\n",
      "  9.53953934e+00  9.55955982e+00  9.57957935e+00  9.59959984e+00\n",
      "  9.61961937e+00  9.63963985e+00  9.65965939e+00  9.67967987e+00\n",
      "  9.69969940e+00  9.71971989e+00  9.73973942e+00  9.75975990e+00\n",
      "  9.77977943e+00  9.79979992e+00  9.81981945e+00  9.83983994e+00\n",
      "  9.85985947e+00  9.87987995e+00  9.89989948e+00  9.91991997e+00\n",
      "  9.93993950e+00  9.95995998e+00  9.97997952e+00  1.00000000e+01]\n"
     ]
    }
   ],
   "source": [
    "print(y_puzzlelib)"
   ]
  },
  {
   "cell_type": "markdown",
   "metadata": {
    "id": "k5wK_ww4TsZT"
   },
   "source": [
    "**Плюсы**\n",
    "\n",
    "- вычислительная простота\n",
    "\n",
    "- быстрота сходимости стохастического градиента\n",
    "\n",
    "**Минусы**\n",
    "\n",
    "- затухающий градиент\n",
    "\n",
    "- не гладкая функция"
   ]
  },
  {
   "cell_type": "markdown",
   "metadata": {
    "id": "R6sCF788Tmd3"
   },
   "source": [
    "### **ELU**\n",
    "Гладкая модификация ReLU и LeakyReLU. Принимает значения на интервале [-α, +∞).\n",
    "\n",
    "Вычисляется по формуле:\n",
    "\n",
    "$f(x)=\\left\\{\\begin{array}{cc}\\alpha\\left(e^{x}-1\\right), & \\text { если } x<0 \\\\ x, & \\text { если } x \\geq 0\\end{array}\\right.$"
   ]
  },
  {
   "cell_type": "code",
   "execution_count": 46,
   "metadata": {
    "colab": {
     "base_uri": "https://localhost:8080/",
     "height": 499
    },
    "id": "0-Ndr2N7TqYI",
    "outputId": "3359f224-2660-4fc6-d6dc-0f68a2d9198a"
   },
   "outputs": [
    {
     "data": {
      "image/png": "[encoded data removed]",
      "text/plain": [
       "<Figure size 864x576 with 1 Axes>"
      ]
     },
     "metadata": {
      "needs_background": "light"
     },
     "output_type": "display_data"
    }
   ],
   "source": [
    "def elu(x):\n",
    "    if x > 0:\n",
    "        return x\n",
    "    else: \n",
    "        return np.exp(x) - 1\n",
    "    \n",
    "    \n",
    "act = Activation(\"elu\")\n",
    "y_puzzlelib = act(gpuarray.to_gpu(x.astype(np.float32)))\n",
    "    \n",
    "\n",
    "plt.figure(figsize=(12,8))\n",
    "plt.plot(x, list(map(elu, x)), label=\"elu\")\n",
    "plt.title(\"ELU\")\n",
    "plt.legend()\n",
    "plt.show()"
   ]
  },
  {
   "cell_type": "code",
   "execution_count": 47,
   "metadata": {},
   "outputs": [
    {
     "name": "stdout",
     "output_type": "stream",
     "text": [
      "[-9.9995458e-01 -9.9995369e-01 -9.9995273e-01 -9.9995178e-01\n",
      " -9.9995083e-01 -9.9994981e-01 -9.9994880e-01 -9.9994779e-01\n",
      " -9.9994671e-01 -9.9994564e-01 -9.9994451e-01 -9.9994344e-01\n",
      " -9.9994224e-01 -9.9994111e-01 -9.9993992e-01 -9.9993873e-01\n",
      " -9.9993747e-01 -9.9993622e-01 -9.9993491e-01 -9.9993360e-01\n",
      " -9.9993223e-01 -9.9993086e-01 -9.9992949e-01 -9.9992806e-01\n",
      " -9.9992657e-01 -9.9992514e-01 -9.9992359e-01 -9.9992204e-01\n",
      " -9.9992049e-01 -9.9991888e-01 -9.9991721e-01 -9.9991554e-01\n",
      " -9.9991387e-01 -9.9991208e-01 -9.9991035e-01 -9.9990851e-01\n",
      " -9.9990666e-01 -9.9990475e-01 -9.9990284e-01 -9.9990088e-01\n",
      " -9.9989885e-01 -9.9989682e-01 -9.9989474e-01 -9.9989259e-01\n",
      " -9.9989045e-01 -9.9988824e-01 -9.9988598e-01 -9.9988365e-01\n",
      " -9.9988133e-01 -9.9987894e-01 -9.9987644e-01 -9.9987400e-01\n",
      " -9.9987143e-01 -9.9986881e-01 -9.9986619e-01 -9.9986345e-01\n",
      " -9.9986070e-01 -9.9985790e-01 -9.9985498e-01 -9.9985206e-01\n",
      " -9.9984908e-01 -9.9984604e-01 -9.9984294e-01 -9.9983972e-01\n",
      " -9.9983650e-01 -9.9983323e-01 -9.9982983e-01 -9.9982637e-01\n",
      " -9.9982285e-01 -9.9981928e-01 -9.9981564e-01 -9.9981189e-01\n",
      " -9.9980813e-01 -9.9980420e-01 -9.9980026e-01 -9.9979621e-01\n",
      " -9.9979210e-01 -9.9978793e-01 -9.9978364e-01 -9.9977922e-01\n",
      " -9.9977475e-01 -9.9977022e-01 -9.9976557e-01 -9.9976081e-01\n",
      " -9.9975598e-01 -9.9975103e-01 -9.9974602e-01 -9.9974090e-01\n",
      " -9.9973565e-01 -9.9973029e-01 -9.9972486e-01 -9.9971926e-01\n",
      " -9.9971360e-01 -9.9970782e-01 -9.9970192e-01 -9.9969590e-01\n",
      " -9.9968976e-01 -9.9968344e-01 -9.9967706e-01 -9.9967051e-01\n",
      " -9.9966389e-01 -9.9965709e-01 -9.9965012e-01 -9.9964309e-01\n",
      " -9.9963582e-01 -9.9962848e-01 -9.9962097e-01 -9.9961329e-01\n",
      " -9.9960548e-01 -9.9959749e-01 -9.9958938e-01 -9.9958104e-01\n",
      " -9.9957258e-01 -9.9956393e-01 -9.9955511e-01 -9.9954611e-01\n",
      " -9.9953693e-01 -9.9952757e-01 -9.9951804e-01 -9.9950826e-01\n",
      " -9.9949837e-01 -9.9948817e-01 -9.9947786e-01 -9.9946731e-01\n",
      " -9.9945652e-01 -9.9944556e-01 -9.9943429e-01 -9.9942291e-01\n",
      " -9.9941123e-01 -9.9939930e-01 -9.9938715e-01 -9.9937475e-01\n",
      " -9.9936211e-01 -9.9934924e-01 -9.9933606e-01 -9.9932265e-01\n",
      " -9.9930894e-01 -9.9929494e-01 -9.9928069e-01 -9.9926615e-01\n",
      " -9.9925131e-01 -9.9923617e-01 -9.9922073e-01 -9.9920499e-01\n",
      " -9.9918890e-01 -9.9917251e-01 -9.9915576e-01 -9.9913871e-01\n",
      " -9.9912125e-01 -9.9910349e-01 -9.9908537e-01 -9.9906689e-01\n",
      " -9.9904799e-01 -9.9902874e-01 -9.9900913e-01 -9.9898911e-01\n",
      " -9.9896866e-01 -9.9894780e-01 -9.9892652e-01 -9.9890482e-01\n",
      " -9.9888265e-01 -9.9886006e-01 -9.9883699e-01 -9.9881351e-01\n",
      " -9.9878949e-01 -9.9876499e-01 -9.9874002e-01 -9.9871457e-01\n",
      " -9.9868858e-01 -9.9866205e-01 -9.9863499e-01 -9.9860740e-01\n",
      " -9.9857920e-01 -9.9855047e-01 -9.9852121e-01 -9.9849129e-01\n",
      " -9.9846077e-01 -9.9842966e-01 -9.9839789e-01 -9.9836552e-01\n",
      " -9.9833244e-01 -9.9829870e-01 -9.9826431e-01 -9.9822921e-01\n",
      " -9.9819338e-01 -9.9815691e-01 -9.9811959e-01 -9.9808156e-01\n",
      " -9.9804276e-01 -9.9800318e-01 -9.9796283e-01 -9.9792165e-01\n",
      " -9.9787962e-01 -9.9783671e-01 -9.9779296e-01 -9.9774837e-01\n",
      " -9.9770284e-01 -9.9765635e-01 -9.9760896e-01 -9.9756062e-01\n",
      " -9.9751133e-01 -9.9746096e-01 -9.9740964e-01 -9.9735725e-01\n",
      " -9.9730378e-01 -9.9724931e-01 -9.9719363e-01 -9.9713689e-01\n",
      " -9.9707901e-01 -9.9701995e-01 -9.9695969e-01 -9.9689823e-01\n",
      " -9.9683547e-01 -9.9677151e-01 -9.9670619e-01 -9.9663961e-01\n",
      " -9.9657166e-01 -9.9650234e-01 -9.9643159e-01 -9.9635941e-01\n",
      " -9.9628580e-01 -9.9621069e-01 -9.9613410e-01 -9.9605590e-01\n",
      " -9.9597615e-01 -9.9589479e-01 -9.9581176e-01 -9.9572706e-01\n",
      " -9.9564064e-01 -9.9555248e-01 -9.9546260e-01 -9.9537081e-01\n",
      " -9.9527723e-01 -9.9518168e-01 -9.9508429e-01 -9.9498487e-01\n",
      " -9.9488348e-01 -9.9478000e-01 -9.9467444e-01 -9.9456674e-01\n",
      " -9.9445689e-01 -9.9434477e-01 -9.9423039e-01 -9.9411374e-01\n",
      " -9.9399471e-01 -9.9387330e-01 -9.9374938e-01 -9.9362296e-01\n",
      " -9.9349403e-01 -9.9336249e-01 -9.9322826e-01 -9.9309129e-01\n",
      " -9.9295163e-01 -9.9280906e-01 -9.9266368e-01 -9.9251533e-01\n",
      " -9.9236393e-01 -9.9220955e-01 -9.9205202e-01 -9.9189126e-01\n",
      " -9.9172729e-01 -9.9156004e-01 -9.9138933e-01 -9.9121523e-01\n",
      " -9.9103755e-01 -9.9085635e-01 -9.9067146e-01 -9.9048281e-01\n",
      " -9.9029034e-01 -9.9009401e-01 -9.8989367e-01 -9.8968929e-01\n",
      " -9.8948079e-01 -9.8926812e-01 -9.8905110e-01 -9.8882967e-01\n",
      " -9.8860377e-01 -9.8837334e-01 -9.8813820e-01 -9.8789835e-01\n",
      " -9.8765367e-01 -9.8740399e-01 -9.8714924e-01 -9.8688942e-01\n",
      " -9.8662430e-01 -9.8635381e-01 -9.8607785e-01 -9.8579633e-01\n",
      " -9.8550910e-01 -9.8521608e-01 -9.8491710e-01 -9.8461211e-01\n",
      " -9.8430091e-01 -9.8398346e-01 -9.8365963e-01 -9.8332918e-01\n",
      " -9.8299205e-01 -9.8264813e-01 -9.8229724e-01 -9.8193926e-01\n",
      " -9.8157406e-01 -9.8120141e-01 -9.8082125e-01 -9.8043346e-01\n",
      " -9.8003781e-01 -9.7963411e-01 -9.7922230e-01 -9.7880214e-01\n",
      " -9.7837347e-01 -9.7793615e-01 -9.7748995e-01 -9.7703475e-01\n",
      " -9.7657037e-01 -9.7609657e-01 -9.7561324e-01 -9.7512007e-01\n",
      " -9.7461694e-01 -9.7410363e-01 -9.7358000e-01 -9.7304571e-01\n",
      " -9.7250068e-01 -9.7194457e-01 -9.7137725e-01 -9.7079843e-01\n",
      " -9.7020793e-01 -9.6960551e-01 -9.6899086e-01 -9.6836382e-01\n",
      " -9.6772408e-01 -9.6707141e-01 -9.6640551e-01 -9.6572620e-01\n",
      " -9.6503311e-01 -9.6432602e-01 -9.6360463e-01 -9.6286863e-01\n",
      " -9.6211779e-01 -9.6135175e-01 -9.6057022e-01 -9.5977288e-01\n",
      " -9.5895940e-01 -9.5812947e-01 -9.5728278e-01 -9.5641899e-01\n",
      " -9.5553768e-01 -9.5463854e-01 -9.5372128e-01 -9.5278543e-01\n",
      " -9.5183069e-01 -9.5085663e-01 -9.4986284e-01 -9.4884896e-01\n",
      " -9.4781464e-01 -9.4675934e-01 -9.4568270e-01 -9.4458431e-01\n",
      " -9.4346374e-01 -9.4232047e-01 -9.4115406e-01 -9.3996412e-01\n",
      " -9.3875009e-01 -9.3751150e-01 -9.3624789e-01 -9.3495870e-01\n",
      " -9.3364346e-01 -9.3230158e-01 -9.3093264e-01 -9.2953598e-01\n",
      " -9.2811108e-01 -9.2665732e-01 -9.2517418e-01 -9.2366111e-01\n",
      " -9.2211735e-01 -9.2054248e-01 -9.1893572e-01 -9.1729641e-01\n",
      " -9.1562402e-01 -9.1391778e-01 -9.1217703e-01 -9.1040111e-01\n",
      " -9.0858924e-01 -9.0674078e-01 -9.0485489e-01 -9.0293092e-01\n",
      " -9.0096802e-01 -8.9896542e-01 -8.9692235e-01 -8.9483792e-01\n",
      " -8.9271134e-01 -8.9054179e-01 -8.8832831e-01 -8.8607013e-01\n",
      " -8.8376629e-01 -8.8141578e-01 -8.7901783e-01 -8.7657136e-01\n",
      " -8.7407541e-01 -8.7152898e-01 -8.6893106e-01 -8.6628067e-01\n",
      " -8.6357659e-01 -8.6081791e-01 -8.5800338e-01 -8.5513192e-01\n",
      " -8.5220248e-01 -8.4921372e-01 -8.4616458e-01 -8.4305370e-01\n",
      " -8.3987999e-01 -8.3664209e-01 -8.3333874e-01 -8.2996857e-01\n",
      " -8.2653022e-01 -8.2302237e-01 -8.1944358e-01 -8.1579238e-01\n",
      " -8.1206739e-01 -8.0826706e-01 -8.0438983e-01 -8.0043423e-01\n",
      " -7.9639870e-01 -7.9228151e-01 -7.8808111e-01 -7.8379571e-01\n",
      " -7.7942371e-01 -7.7496326e-01 -7.7041256e-01 -7.6576996e-01\n",
      " -7.6103342e-01 -7.5620109e-01 -7.5127101e-01 -7.4624133e-01\n",
      " -7.4110985e-01 -7.3587465e-01 -7.3053354e-01 -7.2508442e-01\n",
      " -7.1952516e-01 -7.1385348e-01 -7.0806706e-01 -7.0216370e-01\n",
      " -6.9614094e-01 -6.8999636e-01 -6.8372750e-01 -6.7733192e-01\n",
      " -6.7080700e-01 -6.6415012e-01 -6.5735865e-01 -6.5042984e-01\n",
      " -6.4336097e-01 -6.3614905e-01 -6.2879133e-01 -6.2128490e-01\n",
      " -6.1362660e-01 -6.0581344e-01 -5.9784234e-01 -5.8970994e-01\n",
      " -5.8141315e-01 -5.7294858e-01 -5.6431282e-01 -5.5550253e-01\n",
      " -5.4651403e-01 -5.3734374e-01 -5.2798796e-01 -5.1844299e-01\n",
      " -5.0870514e-01 -4.9877024e-01 -4.8863453e-01 -4.7829378e-01\n",
      " -4.6774393e-01 -4.5698076e-01 -4.4600004e-01 -4.3479717e-01\n",
      " -4.2336780e-01 -4.1170722e-01 -3.9981091e-01 -3.8767403e-01\n",
      " -3.7529171e-01 -3.6265904e-01 -3.4977084e-01 -3.3662212e-01\n",
      " -3.2320744e-01 -3.0952144e-01 -2.9555875e-01 -2.8131366e-01\n",
      " -2.6678061e-01 -2.5195366e-01 -2.3682678e-01 -2.2139406e-01\n",
      " -2.0564932e-01 -1.8958610e-01 -1.7319816e-01 -1.5647882e-01\n",
      " -1.3942128e-01 -1.2201887e-01 -1.0426444e-01 -8.6151123e-02\n",
      " -6.7671537e-02 -4.8818171e-02 -2.9583633e-02 -9.9601150e-03\n",
      "  1.0010010e-02  3.0030031e-02  5.0050050e-02  7.0070073e-02\n",
      "  9.0090089e-02  1.1011011e-01  1.3013013e-01  1.5015015e-01\n",
      "  1.7017017e-01  1.9019020e-01  2.1021020e-01  2.3023023e-01\n",
      "  2.5025025e-01  2.7027026e-01  2.9029030e-01  3.1031030e-01\n",
      "  3.3033034e-01  3.5035035e-01  3.7037036e-01  3.9039040e-01\n",
      "  4.1041040e-01  4.3043044e-01  4.5045045e-01  4.7047046e-01\n",
      "  4.9049050e-01  5.1051050e-01  5.3053051e-01  5.5055058e-01\n",
      "  5.7057059e-01  5.9059060e-01  6.1061060e-01  6.3063061e-01\n",
      "  6.5065068e-01  6.7067069e-01  6.9069070e-01  7.1071070e-01\n",
      "  7.3073071e-01  7.5075078e-01  7.7077079e-01  7.9079080e-01\n",
      "  8.1081080e-01  8.3083081e-01  8.5085088e-01  8.7087089e-01\n",
      "  8.9089090e-01  9.1091090e-01  9.3093091e-01  9.5095098e-01\n",
      "  9.7097099e-01  9.9099100e-01  1.0110110e+00  1.0310310e+00\n",
      "  1.0510510e+00  1.0710710e+00  1.0910910e+00  1.1111112e+00\n",
      "  1.1311312e+00  1.1511512e+00  1.1711712e+00  1.1911912e+00\n",
      "  1.2112112e+00  1.2312312e+00  1.2512512e+00  1.2712712e+00\n",
      "  1.2912912e+00  1.3113114e+00  1.3313314e+00  1.3513514e+00\n",
      "  1.3713714e+00  1.3913914e+00  1.4114114e+00  1.4314314e+00\n",
      "  1.4514514e+00  1.4714714e+00  1.4914914e+00  1.5115116e+00\n",
      "  1.5315316e+00  1.5515516e+00  1.5715716e+00  1.5915916e+00\n",
      "  1.6116116e+00  1.6316316e+00  1.6516516e+00  1.6716716e+00\n",
      "  1.6916916e+00  1.7117118e+00  1.7317318e+00  1.7517518e+00\n",
      "  1.7717718e+00  1.7917918e+00  1.8118118e+00  1.8318318e+00\n",
      "  1.8518518e+00  1.8718718e+00  1.8918918e+00  1.9119120e+00\n",
      "  1.9319320e+00  1.9519520e+00  1.9719720e+00  1.9919920e+00\n",
      "  2.0120120e+00  2.0320320e+00  2.0520520e+00  2.0720720e+00\n",
      "  2.0920920e+00  2.1121120e+00  2.1321321e+00  2.1521521e+00\n",
      "  2.1721721e+00  2.1921921e+00  2.2122123e+00  2.2322323e+00\n",
      "  2.2522523e+00  2.2722723e+00  2.2922924e+00  2.3123124e+00\n",
      "  2.3323324e+00  2.3523524e+00  2.3723724e+00  2.3923924e+00\n",
      "  2.4124124e+00  2.4324324e+00  2.4524524e+00  2.4724724e+00\n",
      "  2.4924924e+00  2.5125124e+00  2.5325325e+00  2.5525525e+00\n",
      "  2.5725725e+00  2.5925925e+00  2.6126127e+00  2.6326327e+00\n",
      "  2.6526527e+00  2.6726727e+00  2.6926928e+00  2.7127128e+00\n",
      "  2.7327328e+00  2.7527528e+00  2.7727728e+00  2.7927928e+00\n",
      "  2.8128128e+00  2.8328328e+00  2.8528528e+00  2.8728728e+00\n",
      "  2.8928928e+00  2.9129128e+00  2.9329329e+00  2.9529529e+00\n",
      "  2.9729729e+00  2.9929929e+00  3.0130131e+00  3.0330331e+00\n",
      "  3.0530531e+00  3.0730731e+00  3.0930932e+00  3.1131132e+00\n",
      "  3.1331332e+00  3.1531532e+00  3.1731732e+00  3.1931932e+00\n",
      "  3.2132132e+00  3.2332332e+00  3.2532532e+00  3.2732732e+00\n",
      "  3.2932932e+00  3.3133132e+00  3.3333333e+00  3.3533533e+00\n",
      "  3.3733733e+00  3.3933933e+00  3.4134135e+00  3.4334335e+00\n",
      "  3.4534535e+00  3.4734735e+00  3.4934936e+00  3.5135136e+00\n",
      "  3.5335336e+00  3.5535536e+00  3.5735736e+00  3.5935936e+00\n",
      "  3.6136136e+00  3.6336336e+00  3.6536536e+00  3.6736736e+00\n",
      "  3.6936936e+00  3.7137136e+00  3.7337337e+00  3.7537537e+00\n",
      "  3.7737737e+00  3.7937937e+00  3.8138139e+00  3.8338339e+00\n",
      "  3.8538539e+00  3.8738739e+00  3.8938940e+00  3.9139140e+00\n",
      "  3.9339340e+00  3.9539540e+00  3.9739740e+00  3.9939940e+00\n",
      "  4.0140142e+00  4.0340343e+00  4.0540543e+00  4.0740743e+00\n",
      "  4.0940943e+00  4.1141143e+00  4.1341343e+00  4.1541543e+00\n",
      "  4.1741743e+00  4.1941943e+00  4.2142143e+00  4.2342343e+00\n",
      "  4.2542543e+00  4.2742743e+00  4.2942944e+00  4.3143144e+00\n",
      "  4.3343344e+00  4.3543544e+00  4.3743744e+00  4.3943944e+00\n",
      "  4.4144144e+00  4.4344344e+00  4.4544544e+00  4.4744744e+00\n",
      "  4.4944944e+00  4.5145144e+00  4.5345345e+00  4.5545545e+00\n",
      "  4.5745745e+00  4.5945945e+00  4.6146145e+00  4.6346345e+00\n",
      "  4.6546545e+00  4.6746745e+00  4.6946945e+00  4.7147145e+00\n",
      "  4.7347345e+00  4.7547545e+00  4.7747746e+00  4.7947946e+00\n",
      "  4.8148150e+00  4.8348351e+00  4.8548551e+00  4.8748751e+00\n",
      "  4.8948951e+00  4.9149151e+00  4.9349351e+00  4.9549551e+00\n",
      "  4.9749751e+00  4.9949951e+00  5.0150151e+00  5.0350351e+00\n",
      "  5.0550551e+00  5.0750751e+00  5.0950952e+00  5.1151152e+00\n",
      "  5.1351352e+00  5.1551552e+00  5.1751752e+00  5.1951952e+00\n",
      "  5.2152152e+00  5.2352352e+00  5.2552552e+00  5.2752752e+00\n",
      "  5.2952952e+00  5.3153152e+00  5.3353353e+00  5.3553553e+00\n",
      "  5.3753753e+00  5.3953953e+00  5.4154153e+00  5.4354353e+00\n",
      "  5.4554553e+00  5.4754753e+00  5.4954953e+00  5.5155153e+00\n",
      "  5.5355353e+00  5.5555553e+00  5.5755754e+00  5.5955954e+00\n",
      "  5.6156158e+00  5.6356359e+00  5.6556559e+00  5.6756759e+00\n",
      "  5.6956959e+00  5.7157159e+00  5.7357359e+00  5.7557559e+00\n",
      "  5.7757759e+00  5.7957959e+00  5.8158159e+00  5.8358359e+00\n",
      "  5.8558559e+00  5.8758759e+00  5.8958960e+00  5.9159160e+00\n",
      "  5.9359360e+00  5.9559560e+00  5.9759760e+00  5.9959960e+00\n",
      "  6.0160160e+00  6.0360360e+00  6.0560560e+00  6.0760760e+00\n",
      "  6.0960960e+00  6.1161160e+00  6.1361361e+00  6.1561561e+00\n",
      "  6.1761761e+00  6.1961961e+00  6.2162161e+00  6.2362361e+00\n",
      "  6.2562561e+00  6.2762761e+00  6.2962961e+00  6.3163161e+00\n",
      "  6.3363361e+00  6.3563561e+00  6.3763762e+00  6.3963962e+00\n",
      "  6.4164166e+00  6.4364367e+00  6.4564567e+00  6.4764767e+00\n",
      "  6.4964967e+00  6.5165167e+00  6.5365367e+00  6.5565567e+00\n",
      "  6.5765767e+00  6.5965967e+00  6.6166167e+00  6.6366367e+00\n",
      "  6.6566567e+00  6.6766768e+00  6.6966968e+00  6.7167168e+00\n",
      "  6.7367368e+00  6.7567568e+00  6.7767768e+00  6.7967968e+00\n",
      "  6.8168168e+00  6.8368368e+00  6.8568568e+00  6.8768768e+00\n",
      "  6.8968968e+00  6.9169168e+00  6.9369369e+00  6.9569569e+00\n",
      "  6.9769769e+00  6.9969969e+00  7.0170169e+00  7.0370369e+00\n",
      "  7.0570569e+00  7.0770769e+00  7.0970969e+00  7.1171169e+00\n",
      "  7.1371369e+00  7.1571569e+00  7.1771770e+00  7.1971970e+00\n",
      "  7.2172174e+00  7.2372375e+00  7.2572575e+00  7.2772775e+00\n",
      "  7.2972975e+00  7.3173175e+00  7.3373375e+00  7.3573575e+00\n",
      "  7.3773775e+00  7.3973975e+00  7.4174175e+00  7.4374375e+00\n",
      "  7.4574575e+00  7.4774776e+00  7.4974976e+00  7.5175176e+00\n",
      "  7.5375376e+00  7.5575576e+00  7.5775776e+00  7.5975976e+00\n",
      "  7.6176176e+00  7.6376376e+00  7.6576576e+00  7.6776776e+00\n",
      "  7.6976976e+00  7.7177176e+00  7.7377377e+00  7.7577577e+00\n",
      "  7.7777777e+00  7.7977977e+00  7.8178177e+00  7.8378377e+00\n",
      "  7.8578577e+00  7.8778777e+00  7.8978977e+00  7.9179177e+00\n",
      "  7.9379377e+00  7.9579577e+00  7.9779778e+00  7.9979978e+00\n",
      "  8.0180178e+00  8.0380383e+00  8.0580578e+00  8.0780783e+00\n",
      "  8.0980978e+00  8.1181183e+00  8.1381378e+00  8.1581583e+00\n",
      "  8.1781778e+00  8.1981983e+00  8.2182178e+00  8.2382383e+00\n",
      "  8.2582579e+00  8.2782784e+00  8.2982979e+00  8.3183184e+00\n",
      "  8.3383379e+00  8.3583584e+00  8.3783779e+00  8.3983984e+00\n",
      "  8.4184189e+00  8.4384384e+00  8.4584589e+00  8.4784784e+00\n",
      "  8.4984989e+00  8.5185184e+00  8.5385389e+00  8.5585585e+00\n",
      "  8.5785789e+00  8.5985985e+00  8.6186190e+00  8.6386385e+00\n",
      "  8.6586590e+00  8.6786785e+00  8.6986990e+00  8.7187185e+00\n",
      "  8.7387390e+00  8.7587585e+00  8.7787790e+00  8.7987986e+00\n",
      "  8.8188190e+00  8.8388386e+00  8.8588591e+00  8.8788786e+00\n",
      "  8.8988991e+00  8.9189186e+00  8.9389391e+00  8.9589586e+00\n",
      "  8.9789791e+00  8.9989986e+00  9.0190191e+00  9.0390387e+00\n",
      "  9.0590591e+00  9.0790787e+00  9.0990992e+00  9.1191187e+00\n",
      "  9.1391392e+00  9.1591587e+00  9.1791792e+00  9.1991987e+00\n",
      "  9.2192192e+00  9.2392397e+00  9.2592592e+00  9.2792797e+00\n",
      "  9.2992992e+00  9.3193197e+00  9.3393393e+00  9.3593597e+00\n",
      "  9.3793793e+00  9.3993998e+00  9.4194193e+00  9.4394398e+00\n",
      "  9.4594593e+00  9.4794798e+00  9.4994993e+00  9.5195198e+00\n",
      "  9.5395393e+00  9.5595598e+00  9.5795794e+00  9.5995998e+00\n",
      "  9.6196194e+00  9.6396399e+00  9.6596594e+00  9.6796799e+00\n",
      "  9.6996994e+00  9.7197199e+00  9.7397394e+00  9.7597599e+00\n",
      "  9.7797794e+00  9.7997999e+00  9.8198195e+00  9.8398399e+00\n",
      "  9.8598595e+00  9.8798800e+00  9.8998995e+00  9.9199200e+00\n",
      "  9.9399395e+00  9.9599600e+00  9.9799795e+00  1.0000000e+01]\n"
     ]
    }
   ],
   "source": [
    "print(y_puzzlelib)"
   ]
  },
  {
   "cell_type": "markdown",
   "metadata": {
    "id": "KPdFLQk4Ts69"
   },
   "source": [
    "**Плюсы**\n",
    "\n",
    "- вычислительная простота\n",
    "- быстрота сходимости стохастического градиента\n",
    "- гладкая функция\n",
    "\n",
    "**Минусы**\n",
    "\n",
    "- затухающий градиент"
   ]
  },
  {
   "cell_type": "markdown",
   "metadata": {
    "id": "TEhgT7ZLTmqN"
   },
   "source": [
    "### **SoftPlus**\n",
    "Гладкая функция активации. Принимает значения на интервале [0, +∞).\n",
    "\n",
    "Вычисляется по формуле:\n",
    "\n",
    "$f(x)=\\ln \\left(1+e^{x}\\right)$"
   ]
  },
  {
   "cell_type": "code",
   "execution_count": 48,
   "metadata": {
    "colab": {
     "base_uri": "https://localhost:8080/",
     "height": 320
    },
    "id": "BznS2hcmTqqd",
    "outputId": "eb212d26-6094-4b5a-a8ae-7dbc6687bdf1"
   },
   "outputs": [
    {
     "data": {
      "image/png": "[encoded data removed]",
      "text/plain": [
       "<Figure size 720x360 with 1 Axes>"
      ]
     },
     "metadata": {
      "needs_background": "light"
     },
     "output_type": "display_data"
    }
   ],
   "source": [
    "def softmax(x):\n",
    "    return np.exp(x) / np.sum(np.exp(x), axis=0)\n",
    "\n",
    "x = np.linspace(-10, 10, 1000)\n",
    "y = np.maximum(0, x)\n",
    "\n",
    "act = Activation(\"softPlus\")\n",
    "y_puzzlelib = act(gpuarray.to_gpu(x.astype(np.float32)))\n",
    "\n",
    "plt.figure(figsize=(10, 5))\n",
    "plt.plot(x, softmax(x))\n",
    "plt.legend(['Softmax'])\n",
    "plt.show()"
   ]
  },
  {
   "cell_type": "code",
   "execution_count": 49,
   "metadata": {},
   "outputs": [
    {
     "name": "stdout",
     "output_type": "stream",
     "text": [
      "[4.54910041e-05 4.64446348e-05 4.72790598e-05 4.82326905e-05\n",
      " 4.93055231e-05 5.02591502e-05 5.12127808e-05 5.22856135e-05\n",
      " 5.33584462e-05 5.44312788e-05 5.55041115e-05 5.66961498e-05\n",
      " 5.77689825e-05 5.89610172e-05 6.01530555e-05 6.13450902e-05\n",
      " 6.26563342e-05 6.38483689e-05 6.51596129e-05 6.64708496e-05\n",
      " 6.77820935e-05 6.92125323e-05 7.06429782e-05 7.20734242e-05\n",
      " 7.35038630e-05 7.49343089e-05 7.64839569e-05 7.80336050e-05\n",
      " 7.95832530e-05 8.12521030e-05 8.28017510e-05 8.44706010e-05\n",
      " 8.62586603e-05 8.79275103e-05 8.97155624e-05 9.15036217e-05\n",
      " 9.34108757e-05 9.53181370e-05 9.72253983e-05 9.91326524e-05\n",
      " 1.01159116e-04 1.03185579e-04 1.05331244e-04 1.07476910e-04\n",
      " 1.09622575e-04 1.11887442e-04 1.14152317e-04 1.16417184e-04\n",
      " 1.18801261e-04 1.21185330e-04 1.23562073e-04 1.26065352e-04\n",
      " 1.28687825e-04 1.31191104e-04 1.33932786e-04 1.36555274e-04\n",
      " 1.39416152e-04 1.42157849e-04 1.45018726e-04 1.47998828e-04\n",
      " 1.50978914e-04 1.54074543e-04 1.57173839e-04 1.60273135e-04\n",
      " 1.63610835e-04 1.66829326e-04 1.70286236e-04 1.73623936e-04\n",
      " 1.77200054e-04 1.80776158e-04 1.84467805e-04 1.88163118e-04\n",
      " 1.91977626e-04 1.95792149e-04 1.99725866e-04 2.03778793e-04\n",
      " 2.07950929e-04 2.12123050e-04 2.16410714e-04 2.20821254e-04\n",
      " 2.25231779e-04 2.29880723e-04 2.34529667e-04 2.39178611e-04\n",
      " 2.44065959e-04 2.48942320e-04 2.53948878e-04 2.59193825e-04\n",
      " 2.64435133e-04 2.69680080e-04 2.75159808e-04 2.80762382e-04\n",
      " 2.86364957e-04 2.92202254e-04 2.98162427e-04 3.04122630e-04\n",
      " 3.10317526e-04 3.16516118e-04 3.22949461e-04 3.29505652e-04\n",
      " 3.36177414e-04 3.42971995e-04 3.49885813e-04 3.56915174e-04\n",
      " 3.64186591e-04 3.71566246e-04 3.79076053e-04 3.86701402e-04\n",
      " 3.94449657e-04 4.02428937e-04 4.10654029e-04 4.18875425e-04\n",
      " 4.27331513e-04 4.36033413e-04 4.44850797e-04 4.53791057e-04\n",
      " 4.62962431e-04 4.72379528e-04 4.81912139e-04 4.91672137e-04\n",
      " 5.01562434e-04 5.11687424e-04 5.22054441e-04 5.32659935e-04\n",
      " 5.43380913e-04 5.54343977e-04 5.65541792e-04 5.76981693e-04\n",
      " 5.88656287e-04 6.00572967e-04 6.12717122e-04 6.25110639e-04\n",
      " 6.37738849e-04 6.50601869e-04 6.63826126e-04 6.77169592e-04\n",
      " 6.90870686e-04 7.04806531e-04 7.19103613e-04 7.33628112e-04\n",
      " 7.48398423e-04 7.63526245e-04 7.79011694e-04 7.94735621e-04\n",
      " 8.10817175e-04 8.27256241e-04 8.43933725e-04 8.60961503e-04\n",
      " 8.78350635e-04 8.96097277e-04 9.14205215e-04 9.32778988e-04\n",
      " 9.51598515e-04 9.70775669e-04 9.90414876e-04 1.01041910e-03\n",
      " 1.03090389e-03 1.05174608e-03 1.07294240e-03 1.09461544e-03\n",
      " 1.11676170e-03 1.13938469e-03 1.16236531e-03 1.18582277e-03\n",
      " 1.20975706e-03 1.23428006e-03 1.25916058e-03 1.28464086e-03\n",
      " 1.31059787e-03 1.33714732e-03 1.36404706e-03 1.39166194e-03\n",
      " 1.41975726e-03 1.44845236e-03 1.47772522e-03 1.50760124e-03\n",
      " 1.53807341e-03 1.56914163e-03 1.60079845e-03 1.63316680e-03\n",
      " 1.66613481e-03 1.69982191e-03 1.73420215e-03 1.76918553e-03\n",
      " 1.80501095e-03 1.84141751e-03 1.87866238e-03 1.91662239e-03\n",
      " 1.95527542e-03 1.99477794e-03 2.03510723e-03 2.07626726e-03\n",
      " 2.11814279e-03 2.16096803e-03 2.20461655e-03 2.24910374e-03\n",
      " 2.29454041e-03 2.34092353e-03 2.38813739e-03 2.43642763e-03\n",
      " 2.48564593e-03 2.53582885e-03 2.58707372e-03 2.63927225e-03\n",
      " 2.69253249e-03 2.74698110e-03 2.80238688e-03 2.85896286e-03\n",
      " 2.91673816e-03 2.97556072e-03 3.03570181e-03 3.09702381e-03\n",
      " 3.15953814e-03 3.22334492e-03 3.28834797e-03 3.35475872e-03\n",
      " 3.42247402e-03 3.49161960e-03 3.56206158e-03 3.63392313e-03\n",
      " 3.70732346e-03 3.78214312e-03 3.85850878e-03 3.93627537e-03\n",
      " 4.01583407e-03 4.09680465e-03 4.17942926e-03 4.26382758e-03\n",
      " 4.34989063e-03 4.43759700e-03 4.52720001e-03 4.61845705e-03\n",
      " 4.71171457e-03 4.80675325e-03 4.90366993e-03 5.00260154e-03\n",
      " 5.10354154e-03 5.20648248e-03 5.31142764e-03 5.41861588e-03\n",
      " 5.52781206e-03 5.63924760e-03 5.75303752e-03 5.86894434e-03\n",
      " 5.98733593e-03 6.10807817e-03 6.23117946e-03 6.35675061e-03\n",
      " 6.48490805e-03 6.61565410e-03 6.74900506e-03 6.88491948e-03\n",
      " 7.02367676e-03 7.16523919e-03 7.30962679e-03 7.45683070e-03\n",
      " 7.60710100e-03 7.76029984e-03 7.91665539e-03 8.07607360e-03\n",
      " 8.23865831e-03 8.40464141e-03 8.57379567e-03 8.74646753e-03\n",
      " 8.92252289e-03 9.10222158e-03 9.28542111e-03 9.47225932e-03\n",
      " 9.66282841e-03 9.85737611e-03 1.00556696e-02 1.02579277e-02\n",
      " 1.04642771e-02 1.06748408e-02 1.08894715e-02 1.11084189e-02\n",
      " 1.13318060e-02 1.15597397e-02 1.17920768e-02 1.20290881e-02\n",
      " 1.22708688e-02 1.25174280e-02 1.27689652e-02 1.30255148e-02\n",
      " 1.32871661e-02 1.35540459e-02 1.38261355e-02 1.41038010e-02\n",
      " 1.43869119e-02 1.46758016e-02 1.49702597e-02 1.52707305e-02\n",
      " 1.55771105e-02 1.58895999e-02 1.62083302e-02 1.65333953e-02\n",
      " 1.68649312e-02 1.72030330e-02 1.75479315e-02 1.78996343e-02\n",
      " 1.82582270e-02 1.86240710e-02 1.89971346e-02 1.93775464e-02\n",
      " 1.97655410e-02 2.01612115e-02 2.05647778e-02 2.09763646e-02\n",
      " 2.13960540e-02 2.18239781e-02 2.22604554e-02 2.27054842e-02\n",
      " 2.31594201e-02 2.36221962e-02 2.40942053e-02 2.45755259e-02\n",
      " 2.50662677e-02 2.55667493e-02 2.60771010e-02 2.65975203e-02\n",
      " 2.71280874e-02 2.76691802e-02 2.82208584e-02 2.87833512e-02\n",
      " 2.93569863e-02 2.99418606e-02 3.05380635e-02 3.11462097e-02\n",
      " 3.17660607e-02 3.23981121e-02 3.30425724e-02 3.36996429e-02\n",
      " 3.43695357e-02 3.50524411e-02 3.57488096e-02 3.64585966e-02\n",
      " 3.71823609e-02 3.79201807e-02 3.86723503e-02 3.94392125e-02\n",
      " 4.02209349e-02 4.10177223e-02 4.18301113e-02 4.26581539e-02\n",
      " 4.35022973e-02 4.43627127e-02 4.52398062e-02 4.61338609e-02\n",
      " 4.70451266e-02 4.79740947e-02 4.89208251e-02 4.98858243e-02\n",
      " 5.08693941e-02 5.18718064e-02 5.28934672e-02 5.39347343e-02\n",
      " 5.49960248e-02 5.60774840e-02 5.71796112e-02 5.83028905e-02\n",
      " 5.94474711e-02 6.06137402e-02 6.18025139e-02 6.30136356e-02\n",
      " 6.42477944e-02 6.55053332e-02 6.67867139e-02 6.80922940e-02\n",
      " 6.94225356e-02 7.07778707e-02 7.21586496e-02 7.35654011e-02\n",
      " 7.49985874e-02 7.64586851e-02 7.79460967e-02 7.94612765e-02\n",
      " 8.10047388e-02 8.25769901e-02 8.41784477e-02 8.58097300e-02\n",
      " 8.74711946e-02 8.91633555e-02 9.08869356e-02 9.26421508e-02\n",
      " 9.44297761e-02 9.62503999e-02 9.81042236e-02 9.99921486e-02\n",
      " 1.01914488e-01 1.03871830e-01 1.05864905e-01 1.07894175e-01\n",
      " 1.09960280e-01 1.12063788e-01 1.14205308e-01 1.16385400e-01\n",
      " 1.18604623e-01 1.20863676e-01 1.23163193e-01 1.25503719e-01\n",
      " 1.27885967e-01 1.30310550e-01 1.32778183e-01 1.35289341e-01\n",
      " 1.37844965e-01 1.40445471e-01 1.43091589e-01 1.45784080e-01\n",
      " 1.48523450e-01 1.51310533e-01 1.54146090e-01 1.57030687e-01\n",
      " 1.59965008e-01 1.62949830e-01 1.65985897e-01 1.69073984e-01\n",
      " 1.72214553e-01 1.75408602e-01 1.78656712e-01 1.81959704e-01\n",
      " 1.85318202e-01 1.88733026e-01 1.92205071e-01 1.95734844e-01\n",
      " 1.99323133e-01 2.02970847e-01 2.06678748e-01 2.10447341e-01\n",
      " 2.14277655e-01 2.18170434e-01 2.22126245e-01 2.26145968e-01\n",
      " 2.30230525e-01 2.34380528e-01 2.38596663e-01 2.42879972e-01\n",
      " 2.47231022e-01 2.51650602e-01 2.56139547e-01 2.60698527e-01\n",
      " 2.65328318e-01 2.70029962e-01 2.74803936e-01 2.79651046e-01\n",
      " 2.84571975e-01 2.89567739e-01 2.94638902e-01 2.99786150e-01\n",
      " 3.05010408e-01 3.10312301e-01 3.15692633e-01 3.21151912e-01\n",
      " 3.26691329e-01 3.32311094e-01 3.38012308e-01 3.43795329e-01\n",
      " 3.49661261e-01 3.55610371e-01 3.61643672e-01 3.67761523e-01\n",
      " 3.73964846e-01 3.80254149e-01 3.86630237e-01 3.93093586e-01\n",
      " 3.99644762e-01 4.06284630e-01 4.13013518e-01 4.19832230e-01\n",
      " 4.26741272e-01 4.33741122e-01 4.40832257e-01 4.48015451e-01\n",
      " 4.55291122e-01 4.62659776e-01 4.70121890e-01 4.77677822e-01\n",
      " 4.85328287e-01 4.93073612e-01 5.00914216e-01 5.08850396e-01\n",
      " 5.16882837e-01 5.25011659e-01 5.33237457e-01 5.41560173e-01\n",
      " 5.49980581e-01 5.58498859e-01 5.67115188e-01 5.75829923e-01\n",
      " 5.84643245e-01 5.93555510e-01 6.02566779e-01 6.11677408e-01\n",
      " 6.20887637e-01 6.30197346e-01 6.39606833e-01 6.49116337e-01\n",
      " 6.58725739e-01 6.68435276e-01 6.78244829e-01 6.88154638e-01\n",
      " 6.98164701e-01 7.08275020e-01 7.18485296e-01 7.28795707e-01\n",
      " 7.39206374e-01 7.49717057e-01 7.60327518e-01 7.71037817e-01\n",
      " 7.81847656e-01 7.92757034e-01 8.03765655e-01 8.14873338e-01\n",
      " 8.26080084e-01 8.37385356e-01 8.48789096e-01 8.60290885e-01\n",
      " 8.71890485e-01 8.83587658e-01 8.95381927e-01 9.07273233e-01\n",
      " 9.19260800e-01 9.31344628e-01 9.43524063e-01 9.55798686e-01\n",
      " 9.68168318e-01 9.80632305e-01 9.93190229e-01 1.00584173e+00\n",
      " 1.01858592e+00 1.03142285e+00 1.04435170e+00 1.05737174e+00\n",
      " 1.07048285e+00 1.08368421e+00 1.09697533e+00 1.11035550e+00\n",
      " 1.12382424e+00 1.13738096e+00 1.15102494e+00 1.16475570e+00\n",
      " 1.17857230e+00 1.19247437e+00 1.20646119e+00 1.22053206e+00\n",
      " 1.23468614e+00 1.24892330e+00 1.26324201e+00 1.27764225e+00\n",
      " 1.29212296e+00 1.30668366e+00 1.32132328e+00 1.33604133e+00\n",
      " 1.35083723e+00 1.36570990e+00 1.38065875e+00 1.39568329e+00\n",
      " 1.41078210e+00 1.42595506e+00 1.44120109e+00 1.45651972e+00\n",
      " 1.47190964e+00 1.48737073e+00 1.50290167e+00 1.51850224e+00\n",
      " 1.53417122e+00 1.54990792e+00 1.56571198e+00 1.58158195e+00\n",
      " 1.59751737e+00 1.61351764e+00 1.62958181e+00 1.64570916e+00\n",
      " 1.66189873e+00 1.67815018e+00 1.69446218e+00 1.71083462e+00\n",
      " 1.72726631e+00 1.74375653e+00 1.76030457e+00 1.77690971e+00\n",
      " 1.79357111e+00 1.81028819e+00 1.82706022e+00 1.84388614e+00\n",
      " 1.86076546e+00 1.87769783e+00 1.89468169e+00 1.91171670e+00\n",
      " 1.92880249e+00 1.94593787e+00 1.96312225e+00 1.98035514e+00\n",
      " 1.99763572e+00 2.01496339e+00 2.03233743e+00 2.04975677e+00\n",
      " 2.06722140e+00 2.08473015e+00 2.10228252e+00 2.11987805e+00\n",
      " 2.13751578e+00 2.15519524e+00 2.17291570e+00 2.19067645e+00\n",
      " 2.20847726e+00 2.22631717e+00 2.24419570e+00 2.26211238e+00\n",
      " 2.28006625e+00 2.29805684e+00 2.31608415e+00 2.33414650e+00\n",
      " 2.35224438e+00 2.37037659e+00 2.38854265e+00 2.40674210e+00\n",
      " 2.42497444e+00 2.44323921e+00 2.46153569e+00 2.47986341e+00\n",
      " 2.49822187e+00 2.51661062e+00 2.53502941e+00 2.55347729e+00\n",
      " 2.57195377e+00 2.59045839e+00 2.60899115e+00 2.62755108e+00\n",
      " 2.64613795e+00 2.66475105e+00 2.68339038e+00 2.70205522e+00\n",
      " 2.72074485e+00 2.73945928e+00 2.75819802e+00 2.77696013e+00\n",
      " 2.79574609e+00 2.81455493e+00 2.83338666e+00 2.85224009e+00\n",
      " 2.87111568e+00 2.89001203e+00 2.90893030e+00 2.92786884e+00\n",
      " 2.94682741e+00 2.96580648e+00 2.98480439e+00 3.00382233e+00\n",
      " 3.02285862e+00 3.04191351e+00 3.06098676e+00 3.08007812e+00\n",
      " 3.09918690e+00 3.11831284e+00 3.13745546e+00 3.15661526e+00\n",
      " 3.17579103e+00 3.19498324e+00 3.21419096e+00 3.23341393e+00\n",
      " 3.25265241e+00 3.27190542e+00 3.29117322e+00 3.31045532e+00\n",
      " 3.32975173e+00 3.34906173e+00 3.36838579e+00 3.38772225e+00\n",
      " 3.40707278e+00 3.42643595e+00 3.44581151e+00 3.46519923e+00\n",
      " 3.48459959e+00 3.50401163e+00 3.52343512e+00 3.54287052e+00\n",
      " 3.56231666e+00 3.58177423e+00 3.60124254e+00 3.62072158e+00\n",
      " 3.64021087e+00 3.65971041e+00 3.67921996e+00 3.69873977e+00\n",
      " 3.71826911e+00 3.73780775e+00 3.75735593e+00 3.77691293e+00\n",
      " 3.79647899e+00 3.81605387e+00 3.83563781e+00 3.85522962e+00\n",
      " 3.87483025e+00 3.89443874e+00 3.91405535e+00 3.93367910e+00\n",
      " 3.95331120e+00 3.97295070e+00 3.99259806e+00 4.01225233e+00\n",
      " 4.03191376e+00 4.05158186e+00 4.07125711e+00 4.09093857e+00\n",
      " 4.11062765e+00 4.13032246e+00 4.15002394e+00 4.16973114e+00\n",
      " 4.18944502e+00 4.20916462e+00 4.22888994e+00 4.24862099e+00\n",
      " 4.26835775e+00 4.28810024e+00 4.30784845e+00 4.32760143e+00\n",
      " 4.34735966e+00 4.36712265e+00 4.38689184e+00 4.40666533e+00\n",
      " 4.42644310e+00 4.44622612e+00 4.46601391e+00 4.48580599e+00\n",
      " 4.50560284e+00 4.52540398e+00 4.54520893e+00 4.56501865e+00\n",
      " 4.58483219e+00 4.60465002e+00 4.62447119e+00 4.64429712e+00\n",
      " 4.66412640e+00 4.68395948e+00 4.70379686e+00 4.72363663e+00\n",
      " 4.74348068e+00 4.76332808e+00 4.78317881e+00 4.80303288e+00\n",
      " 4.82289076e+00 4.84275150e+00 4.86261511e+00 4.88248205e+00\n",
      " 4.90235186e+00 4.92222500e+00 4.94210052e+00 4.96197844e+00\n",
      " 4.98185968e+00 5.00174379e+00 5.02163076e+00 5.04151964e+00\n",
      " 5.06141186e+00 5.08130598e+00 5.10120296e+00 5.12110281e+00\n",
      " 5.14100409e+00 5.16090822e+00 5.18081427e+00 5.20072317e+00\n",
      " 5.22063351e+00 5.24054670e+00 5.26046133e+00 5.28037882e+00\n",
      " 5.30029726e+00 5.32021856e+00 5.34014225e+00 5.36006689e+00\n",
      " 5.37999344e+00 5.39992237e+00 5.41985273e+00 5.43978453e+00\n",
      " 5.45971918e+00 5.47965431e+00 5.49959183e+00 5.51953125e+00\n",
      " 5.53947163e+00 5.55941343e+00 5.57935715e+00 5.59930229e+00\n",
      " 5.61924934e+00 5.63919735e+00 5.65914726e+00 5.67909813e+00\n",
      " 5.69905043e+00 5.71900368e+00 5.73895884e+00 5.75891495e+00\n",
      " 5.77887297e+00 5.79883099e+00 5.81879091e+00 5.83875227e+00\n",
      " 5.85871506e+00 5.87867785e+00 5.89864254e+00 5.91860819e+00\n",
      " 5.93857479e+00 5.95854282e+00 5.97851133e+00 5.99848127e+00\n",
      " 6.01845217e+00 6.03842402e+00 6.05839634e+00 6.07837009e+00\n",
      " 6.09834480e+00 6.11832094e+00 6.13829708e+00 6.15827370e+00\n",
      " 6.17825174e+00 6.19823074e+00 6.21821070e+00 6.23819113e+00\n",
      " 6.25817204e+00 6.27815485e+00 6.29813719e+00 6.31812048e+00\n",
      " 6.33810472e+00 6.35808992e+00 6.37807560e+00 6.39806223e+00\n",
      " 6.41804934e+00 6.43803692e+00 6.45802546e+00 6.47801399e+00\n",
      " 6.49800348e+00 6.51799393e+00 6.53798532e+00 6.55797625e+00\n",
      " 6.57796812e+00 6.59796047e+00 6.61795330e+00 6.63794708e+00\n",
      " 6.65794086e+00 6.67793608e+00 6.69793081e+00 6.71792650e+00\n",
      " 6.73792219e+00 6.75791883e+00 6.77791548e+00 6.79791355e+00\n",
      " 6.81791162e+00 6.83790922e+00 6.85790777e+00 6.87790728e+00\n",
      " 6.89790726e+00 6.91790676e+00 6.93790722e+00 6.95790815e+00\n",
      " 6.97790956e+00 6.99791145e+00 7.01791239e+00 7.03791475e+00\n",
      " 7.05791759e+00 7.07792044e+00 7.09792328e+00 7.11792707e+00\n",
      " 7.13793135e+00 7.15793562e+00 7.17794085e+00 7.19794512e+00\n",
      " 7.21795034e+00 7.23795605e+00 7.25796175e+00 7.27796793e+00\n",
      " 7.29797459e+00 7.31798124e+00 7.33798742e+00 7.35799456e+00\n",
      " 7.37800217e+00 7.39800978e+00 7.41801786e+00 7.43802547e+00\n",
      " 7.45803404e+00 7.47804260e+00 7.49805164e+00 7.51806068e+00\n",
      " 7.53806925e+00 7.55807924e+00 7.57808924e+00 7.59809875e+00\n",
      " 7.61810827e+00 7.63811922e+00 7.65812969e+00 7.67814064e+00\n",
      " 7.69815063e+00 7.71816254e+00 7.73817301e+00 7.75818491e+00\n",
      " 7.77819633e+00 7.79820776e+00 7.81821966e+00 7.83823156e+00\n",
      " 7.85824394e+00 7.87825632e+00 7.89826918e+00 7.91828108e+00\n",
      " 7.93829393e+00 7.95830774e+00 7.97832012e+00 7.99833345e+00\n",
      " 8.01834679e+00 8.03836060e+00 8.05837345e+00 8.07838821e+00\n",
      " 8.09840202e+00 8.11841583e+00 8.13842869e+00 8.15844440e+00\n",
      " 8.17845821e+00 8.19847393e+00 8.21848774e+00 8.23850155e+00\n",
      " 8.25851727e+00 8.27853203e+00 8.29854679e+00 8.31856251e+00\n",
      " 8.33857632e+00 8.35859203e+00 8.37860775e+00 8.39862251e+00\n",
      " 8.41864014e+00 8.43865490e+00 8.45866966e+00 8.47868538e+00\n",
      " 8.49870205e+00 8.51871777e+00 8.53873444e+00 8.55875015e+00\n",
      " 8.57876682e+00 8.59878254e+00 8.61879921e+00 8.63881493e+00\n",
      " 8.65883160e+00 8.67884827e+00 8.69886589e+00 8.71888161e+00\n",
      " 8.73889923e+00 8.75891495e+00 8.77893257e+00 8.79894924e+00\n",
      " 8.81896591e+00 8.83898258e+00 8.85900116e+00 8.87901783e+00\n",
      " 8.89903450e+00 8.91905212e+00 8.93906975e+00 8.95908642e+00\n",
      " 8.97910404e+00 8.99912167e+00 9.01914024e+00 9.03915691e+00\n",
      " 9.05917549e+00 9.07919216e+00 9.09921074e+00 9.11922741e+00\n",
      " 9.13924599e+00 9.15926361e+00 9.17928219e+00 9.19929981e+00\n",
      " 9.21931744e+00 9.23933697e+00 9.25935364e+00 9.27937317e+00\n",
      " 9.29939079e+00 9.31940842e+00 9.33942699e+00 9.35944557e+00\n",
      " 9.37946320e+00 9.39948177e+00 9.41950035e+00 9.43951893e+00\n",
      " 9.45953655e+00 9.47955608e+00 9.49957371e+00 9.51959324e+00\n",
      " 9.53961086e+00 9.55963039e+00 9.57964802e+00 9.59966660e+00\n",
      " 9.61968517e+00 9.63970470e+00 9.65972328e+00 9.67974186e+00\n",
      " 9.69975948e+00 9.71977997e+00 9.73979855e+00 9.75981712e+00\n",
      " 9.77983570e+00 9.79985523e+00 9.81987381e+00 9.83989334e+00\n",
      " 9.85991192e+00 9.87993050e+00 9.89994907e+00 9.91996861e+00\n",
      " 9.93998814e+00 9.96000671e+00 9.98002529e+00 1.00000448e+01]\n"
     ]
    }
   ],
   "source": [
    "print(y_puzzlelib)"
   ]
  },
  {
   "cell_type": "markdown",
   "metadata": {
    "id": "cmpHyb-3TtXf"
   },
   "source": [
    "**Плюсы**\n",
    "\n",
    "- гладкая бесконечно дифференцируемая функция\n",
    "\n",
    "**Минусы**\n",
    "- не центрирована относительно нуля\n"
   ]
  },
  {
   "cell_type": "markdown",
   "metadata": {
    "id": "ZNBLkBFPcBNm"
   },
   "source": [
    "### **Инцициализация**"
   ]
  },
  {
   "cell_type": "code",
   "execution_count": null,
   "metadata": {
    "id": "Z2svdyvycCyH"
   },
   "outputs": [],
   "source": [
    "def __init__(self, activation, slc=None, inplace=False, name=None, args=()):"
   ]
  },
  {
   "cell_type": "markdown",
   "metadata": {
    "id": "SBOPYkY1hJPc"
   },
   "source": [
    "Параметр|Тип|Значение по умолчанию | Описание \n",
    "--|--|--|--\n",
    "activation|str|None|Вид активации\n",
    "slc|slice|None|\tСрез, по которому будет вычислена функция активации\n",
    "inplace|bool|False|Если True, то выходной тензор будет записан в памяти на место входного\n",
    "name|str|None|Название\n"
   ]
  },
  {
   "cell_type": "markdown",
   "metadata": {
    "id": "W3kjcs0ahqrn"
   },
   "source": [
    "**activation** - определяет выбранную функцию активации\n",
    "\n",
    "**inplace** - флаг, показывающий, нужно ли выделять дополнительные ресурсы памяти для результата. Если True, то выходной тензор будет записан в памяти на место входного, что может негативно отразиться на работе сети, если входной тензор должен принимать участие в расчётах на других ветках графа."
   ]
  },
  {
   "cell_type": "markdown",
   "metadata": {
    "id": "N1pwivuMhu5g"
   },
   "source": [
    "### **Примеры**"
   ]
  },
  {
   "cell_type": "markdown",
   "metadata": {
    "id": "uyKFtyZHh3Ur"
   },
   "source": [
    "Сформируем наглядные данные"
   ]
  },
  {
   "cell_type": "code",
   "execution_count": 14,
   "metadata": {
    "id": "BgFwyUTBhxAv"
   },
   "outputs": [
    {
     "name": "stdout",
     "output_type": "stream",
     "text": [
      "[[  3.  -8.  -8.]\n",
      " [ -4.   7.   9.]\n",
      " [  0.  -9. -10.]]\n"
     ]
    }
   ],
   "source": [
    "np.random.seed(123)\n",
    "h, w = 3, 3\n",
    "data = gpuarray.to_gpu(np.random.randint(-10, 10, (h, w)).astype(np.float32))\n",
    "print(data)"
   ]
  },
  {
   "cell_type": "markdown",
   "metadata": {
    "id": "hcBupk-5h6mW"
   },
   "source": [
    "Допустим, нам интересен сигмоид в качестве функции активации. Инициализируем объект и отправим в него данные."
   ]
  },
  {
   "cell_type": "code",
   "execution_count": 17,
   "metadata": {
    "id": "hcwOd5XVhz5l"
   },
   "outputs": [
    {
     "name": "stdout",
     "output_type": "stream",
     "text": [
      "[[9.5257413e-01 3.3535017e-04 3.3535017e-04]\n",
      " [1.7986210e-02 9.9908900e-01 9.9987662e-01]\n",
      " [5.0000000e-01 1.2339462e-04 4.5397865e-05]]\n"
     ]
    }
   ],
   "source": [
    "act = Activation('sigmoid')\n",
    "print(act(data))"
   ]
  },
  {
   "cell_type": "code",
   "execution_count": null,
   "metadata": {},
   "outputs": [],
   "source": []
  }
 ],
 "metadata": {
  "colab": {
   "name": "Documentation.ipynb",
   "provenance": []
  },
  "kernelspec": {
   "display_name": "Python 3",
   "language": "python",
   "name": "python3"
  },
  "language_info": {
   "codemirror_mode": {
    "name": "ipython",
    "version": 3
   },
   "file_extension": ".py",
   "mimetype": "text/x-python",
   "name": "python",
   "nbconvert_exporter": "python",
   "pygments_lexer": "ipython3",
   "version": "3.6.5"
  }
 },
 "nbformat": 4,
 "nbformat_minor": 4
}
